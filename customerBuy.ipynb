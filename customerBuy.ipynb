{
 "cells": [
  {
   "cell_type": "code",
   "execution_count": 1,
   "metadata": {},
   "outputs": [],
   "source": [
    "import pandas as pd\n",
    "import numpy as np\n",
    "import seaborn as sns\n",
    "import matplotlib.pyplot as plt\n",
    "from datetime import timedelta\n",
    "import squarify"
   ]
  },
  {
   "cell_type": "markdown",
   "metadata": {},
   "source": [
    "## Loading the dataset!"
   ]
  },
  {
   "cell_type": "code",
   "execution_count": 2,
   "metadata": {},
   "outputs": [],
   "source": [
    "df = pd.read_excel('E:\\\\Media, Docs & Programs\\\\Practice\\\\DataScience\\\\DigiKala\\\\Customer buy history\\\\b683b250.xlsx')"
   ]
  },
  {
   "cell_type": "code",
   "execution_count": 3,
   "metadata": {},
   "outputs": [
    {
     "data": {
      "text/html": [
       "<div>\n",
       "<style scoped>\n",
       "    .dataframe tbody tr th:only-of-type {\n",
       "        vertical-align: middle;\n",
       "    }\n",
       "\n",
       "    .dataframe tbody tr th {\n",
       "        vertical-align: top;\n",
       "    }\n",
       "\n",
       "    .dataframe thead th {\n",
       "        text-align: right;\n",
       "    }\n",
       "</style>\n",
       "<table border=\"1\" class=\"dataframe\">\n",
       "  <thead>\n",
       "    <tr style=\"text-align: right;\">\n",
       "      <th></th>\n",
       "      <th>order_id</th>\n",
       "      <th>user_id</th>\n",
       "      <th>variant_id</th>\n",
       "      <th>product_id</th>\n",
       "      <th>quantity</th>\n",
       "      <th>price</th>\n",
       "      <th>date</th>\n",
       "      <th>city_id</th>\n",
       "      <th>city_name</th>\n",
       "      <th>state_id</th>\n",
       "      <th>state_name</th>\n",
       "    </tr>\n",
       "  </thead>\n",
       "  <tbody>\n",
       "    <tr>\n",
       "      <th>0</th>\n",
       "      <td>262108413</td>\n",
       "      <td>SlcW7YT835JSzh22o7zRCA==</td>\n",
       "      <td>922274</td>\n",
       "      <td>406523</td>\n",
       "      <td>1</td>\n",
       "      <td>139000</td>\n",
       "      <td>2018-08-20 23:59:02</td>\n",
       "      <td>1698</td>\n",
       "      <td>تهران</td>\n",
       "      <td>9</td>\n",
       "      <td>تهران</td>\n",
       "    </tr>\n",
       "    <tr>\n",
       "      <th>1</th>\n",
       "      <td>262108413</td>\n",
       "      <td>SlcW7YT835JSzh22o7zRCA==</td>\n",
       "      <td>685868</td>\n",
       "      <td>435013</td>\n",
       "      <td>1</td>\n",
       "      <td>890000</td>\n",
       "      <td>2018-08-20 23:59:02</td>\n",
       "      <td>1698</td>\n",
       "      <td>تهران</td>\n",
       "      <td>9</td>\n",
       "      <td>تهران</td>\n",
       "    </tr>\n",
       "    <tr>\n",
       "      <th>2</th>\n",
       "      <td>262108353</td>\n",
       "      <td>NZidrSuPdqoG7RedrFakeA==</td>\n",
       "      <td>275077</td>\n",
       "      <td>163947</td>\n",
       "      <td>1</td>\n",
       "      <td>9890000</td>\n",
       "      <td>2018-08-20 23:58:39</td>\n",
       "      <td>1698</td>\n",
       "      <td>تهران</td>\n",
       "      <td>9</td>\n",
       "      <td>تهران</td>\n",
       "    </tr>\n",
       "    <tr>\n",
       "      <th>3</th>\n",
       "      <td>262108341</td>\n",
       "      <td>dLQImlfXMsgSub4OcfJpGg==</td>\n",
       "      <td>679393</td>\n",
       "      <td>158560</td>\n",
       "      <td>1</td>\n",
       "      <td>349000</td>\n",
       "      <td>2018-08-20 23:58:35</td>\n",
       "      <td>1855</td>\n",
       "      <td>مشهد</td>\n",
       "      <td>12</td>\n",
       "      <td>خراسان رضوی</td>\n",
       "    </tr>\n",
       "  </tbody>\n",
       "</table>\n",
       "</div>"
      ],
      "text/plain": [
       "    order_id                   user_id  variant_id  product_id  quantity  \\\n",
       "0  262108413  SlcW7YT835JSzh22o7zRCA==      922274      406523         1   \n",
       "1  262108413  SlcW7YT835JSzh22o7zRCA==      685868      435013         1   \n",
       "2  262108353  NZidrSuPdqoG7RedrFakeA==      275077      163947         1   \n",
       "3  262108341  dLQImlfXMsgSub4OcfJpGg==      679393      158560         1   \n",
       "\n",
       "     price                 date  city_id city_name  state_id   state_name  \n",
       "0   139000  2018-08-20 23:59:02     1698     تهران         9        تهران  \n",
       "1   890000  2018-08-20 23:59:02     1698     تهران         9        تهران  \n",
       "2  9890000  2018-08-20 23:58:39     1698     تهران         9        تهران  \n",
       "3   349000  2018-08-20 23:58:35     1855      مشهد        12  خراسان رضوی  "
      ]
     },
     "execution_count": 3,
     "metadata": {},
     "output_type": "execute_result"
    }
   ],
   "source": [
    "df.head(4)"
   ]
  },
  {
   "cell_type": "code",
   "execution_count": 4,
   "metadata": {},
   "outputs": [
    {
     "name": "stdout",
     "output_type": "stream",
     "text": [
      "<class 'pandas.core.frame.DataFrame'>\n",
      "RangeIndex: 200000 entries, 0 to 199999\n",
      "Data columns (total 11 columns):\n",
      " #   Column      Non-Null Count   Dtype \n",
      "---  ------      --------------   ----- \n",
      " 0   order_id    200000 non-null  int64 \n",
      " 1   user_id     200000 non-null  object\n",
      " 2   variant_id  200000 non-null  int64 \n",
      " 3   product_id  200000 non-null  int64 \n",
      " 4   quantity    200000 non-null  int64 \n",
      " 5   price       200000 non-null  int64 \n",
      " 6   date        200000 non-null  object\n",
      " 7   city_id     200000 non-null  int64 \n",
      " 8   city_name   200000 non-null  object\n",
      " 9   state_id    200000 non-null  int64 \n",
      " 10  state_name  200000 non-null  object\n",
      "dtypes: int64(7), object(4)\n",
      "memory usage: 16.8+ MB\n"
     ]
    }
   ],
   "source": [
    "df.info()"
   ]
  },
  {
   "cell_type": "code",
   "execution_count": 47,
   "metadata": {},
   "outputs": [
    {
     "data": {
      "text/plain": [
       "order_id       0\n",
       "user_id        0\n",
       "variant_id     0\n",
       "product_id     0\n",
       "quantity       0\n",
       "price          0\n",
       "date           0\n",
       "city_id        0\n",
       "city_name      0\n",
       "state_id       0\n",
       "state_name     0\n",
       "year           0\n",
       "month          0\n",
       "day            0\n",
       "weekday        0\n",
       "hour           0\n",
       "weekdayName    0\n",
       "dtype: int64"
      ]
     },
     "execution_count": 47,
     "metadata": {},
     "output_type": "execute_result"
    }
   ],
   "source": [
    "df.isna().sum()"
   ]
  },
  {
   "cell_type": "markdown",
   "metadata": {},
   "source": [
    "## As you can see, there is no null in dataset."
   ]
  },
  {
   "cell_type": "code",
   "execution_count": 5,
   "metadata": {},
   "outputs": [],
   "source": [
    "df['date'] = pd.to_datetime(df['date'])"
   ]
  },
  {
   "cell_type": "code",
   "execution_count": 6,
   "metadata": {},
   "outputs": [
    {
     "data": {
      "text/html": [
       "<div>\n",
       "<style scoped>\n",
       "    .dataframe tbody tr th:only-of-type {\n",
       "        vertical-align: middle;\n",
       "    }\n",
       "\n",
       "    .dataframe tbody tr th {\n",
       "        vertical-align: top;\n",
       "    }\n",
       "\n",
       "    .dataframe thead th {\n",
       "        text-align: right;\n",
       "    }\n",
       "</style>\n",
       "<table border=\"1\" class=\"dataframe\">\n",
       "  <thead>\n",
       "    <tr style=\"text-align: right;\">\n",
       "      <th></th>\n",
       "      <th>order_id</th>\n",
       "      <th>variant_id</th>\n",
       "      <th>product_id</th>\n",
       "      <th>quantity</th>\n",
       "      <th>price</th>\n",
       "      <th>city_id</th>\n",
       "      <th>state_id</th>\n",
       "    </tr>\n",
       "  </thead>\n",
       "  <tbody>\n",
       "    <tr>\n",
       "      <th>count</th>\n",
       "      <td>2.000000e+05</td>\n",
       "      <td>2.000000e+05</td>\n",
       "      <td>200000.000000</td>\n",
       "      <td>200000.000000</td>\n",
       "      <td>2.000000e+05</td>\n",
       "      <td>200000.000000</td>\n",
       "      <td>200000.000000</td>\n",
       "    </tr>\n",
       "    <tr>\n",
       "      <th>mean</th>\n",
       "      <td>2.603678e+08</td>\n",
       "      <td>8.194619e+05</td>\n",
       "      <td>386718.575000</td>\n",
       "      <td>1.327395</td>\n",
       "      <td>1.057300e+06</td>\n",
       "      <td>1829.737850</td>\n",
       "      <td>12.122495</td>\n",
       "    </tr>\n",
       "    <tr>\n",
       "      <th>std</th>\n",
       "      <td>9.014162e+05</td>\n",
       "      <td>4.162816e+05</td>\n",
       "      <td>212149.173524</td>\n",
       "      <td>1.428635</td>\n",
       "      <td>3.846753e+06</td>\n",
       "      <td>286.319633</td>\n",
       "      <td>7.045052</td>\n",
       "    </tr>\n",
       "    <tr>\n",
       "      <th>min</th>\n",
       "      <td>2.588380e+08</td>\n",
       "      <td>2.810000e+02</td>\n",
       "      <td>300.000000</td>\n",
       "      <td>-2.000000</td>\n",
       "      <td>1.000000e+00</td>\n",
       "      <td>1372.000000</td>\n",
       "      <td>2.000000</td>\n",
       "    </tr>\n",
       "    <tr>\n",
       "      <th>25%</th>\n",
       "      <td>2.595868e+08</td>\n",
       "      <td>4.835210e+05</td>\n",
       "      <td>191084.000000</td>\n",
       "      <td>1.000000</td>\n",
       "      <td>1.300000e+05</td>\n",
       "      <td>1698.000000</td>\n",
       "      <td>9.000000</td>\n",
       "    </tr>\n",
       "    <tr>\n",
       "      <th>50%</th>\n",
       "      <td>2.603573e+08</td>\n",
       "      <td>8.856180e+05</td>\n",
       "      <td>395477.000000</td>\n",
       "      <td>1.000000</td>\n",
       "      <td>2.900000e+05</td>\n",
       "      <td>1698.000000</td>\n",
       "      <td>9.000000</td>\n",
       "    </tr>\n",
       "    <tr>\n",
       "      <th>75%</th>\n",
       "      <td>2.610735e+08</td>\n",
       "      <td>1.181338e+06</td>\n",
       "      <td>568665.000000</td>\n",
       "      <td>1.000000</td>\n",
       "      <td>7.490000e+05</td>\n",
       "      <td>1905.000000</td>\n",
       "      <td>14.000000</td>\n",
       "    </tr>\n",
       "    <tr>\n",
       "      <th>max</th>\n",
       "      <td>2.621084e+08</td>\n",
       "      <td>1.495812e+06</td>\n",
       "      <td>789337.000000</td>\n",
       "      <td>100.000000</td>\n",
       "      <td>2.120000e+08</td>\n",
       "      <td>2613.000000</td>\n",
       "      <td>32.000000</td>\n",
       "    </tr>\n",
       "  </tbody>\n",
       "</table>\n",
       "</div>"
      ],
      "text/plain": [
       "           order_id    variant_id     product_id       quantity         price  \\\n",
       "count  2.000000e+05  2.000000e+05  200000.000000  200000.000000  2.000000e+05   \n",
       "mean   2.603678e+08  8.194619e+05  386718.575000       1.327395  1.057300e+06   \n",
       "std    9.014162e+05  4.162816e+05  212149.173524       1.428635  3.846753e+06   \n",
       "min    2.588380e+08  2.810000e+02     300.000000      -2.000000  1.000000e+00   \n",
       "25%    2.595868e+08  4.835210e+05  191084.000000       1.000000  1.300000e+05   \n",
       "50%    2.603573e+08  8.856180e+05  395477.000000       1.000000  2.900000e+05   \n",
       "75%    2.610735e+08  1.181338e+06  568665.000000       1.000000  7.490000e+05   \n",
       "max    2.621084e+08  1.495812e+06  789337.000000     100.000000  2.120000e+08   \n",
       "\n",
       "             city_id       state_id  \n",
       "count  200000.000000  200000.000000  \n",
       "mean     1829.737850      12.122495  \n",
       "std       286.319633       7.045052  \n",
       "min      1372.000000       2.000000  \n",
       "25%      1698.000000       9.000000  \n",
       "50%      1698.000000       9.000000  \n",
       "75%      1905.000000      14.000000  \n",
       "max      2613.000000      32.000000  "
      ]
     },
     "execution_count": 6,
     "metadata": {},
     "output_type": "execute_result"
    }
   ],
   "source": [
    "df.describe()"
   ]
  },
  {
   "cell_type": "code",
   "execution_count": 7,
   "metadata": {},
   "outputs": [
    {
     "data": {
      "text/html": [
       "<div>\n",
       "<style scoped>\n",
       "    .dataframe tbody tr th:only-of-type {\n",
       "        vertical-align: middle;\n",
       "    }\n",
       "\n",
       "    .dataframe tbody tr th {\n",
       "        vertical-align: top;\n",
       "    }\n",
       "\n",
       "    .dataframe thead th {\n",
       "        text-align: right;\n",
       "    }\n",
       "</style>\n",
       "<table border=\"1\" class=\"dataframe\">\n",
       "  <thead>\n",
       "    <tr style=\"text-align: right;\">\n",
       "      <th></th>\n",
       "      <th>user_id</th>\n",
       "      <th>city_name</th>\n",
       "      <th>state_name</th>\n",
       "    </tr>\n",
       "  </thead>\n",
       "  <tbody>\n",
       "    <tr>\n",
       "      <th>count</th>\n",
       "      <td>200000</td>\n",
       "      <td>200000</td>\n",
       "      <td>200000</td>\n",
       "    </tr>\n",
       "    <tr>\n",
       "      <th>unique</th>\n",
       "      <td>56104</td>\n",
       "      <td>816</td>\n",
       "      <td>31</td>\n",
       "    </tr>\n",
       "    <tr>\n",
       "      <th>top</th>\n",
       "      <td>JVeVjivUAHEMQmDOXo2EXA==</td>\n",
       "      <td>تهران</td>\n",
       "      <td>تهران</td>\n",
       "    </tr>\n",
       "    <tr>\n",
       "      <th>freq</th>\n",
       "      <td>250</td>\n",
       "      <td>107195</td>\n",
       "      <td>111767</td>\n",
       "    </tr>\n",
       "  </tbody>\n",
       "</table>\n",
       "</div>"
      ],
      "text/plain": [
       "                         user_id city_name state_name\n",
       "count                     200000    200000     200000\n",
       "unique                     56104       816         31\n",
       "top     JVeVjivUAHEMQmDOXo2EXA==     تهران      تهران\n",
       "freq                         250    107195     111767"
      ]
     },
     "execution_count": 7,
     "metadata": {},
     "output_type": "execute_result"
    }
   ],
   "source": [
    "df.describe(include=object)"
   ]
  },
  {
   "cell_type": "code",
   "execution_count": 53,
   "metadata": {},
   "outputs": [
    {
     "data": {
      "text/plain": [
       "array([-1, -2], dtype=int64)"
      ]
     },
     "execution_count": 53,
     "metadata": {},
     "output_type": "execute_result"
    }
   ],
   "source": [
    "df[df['quantity'] <= 0]['quantity'].unique()"
   ]
  },
  {
   "cell_type": "markdown",
   "metadata": {},
   "source": [
    "## there are some values in the data that is not quit normal, in the 'quantity' column, the min value is equal to -2, and this is not acceptable as a valid value for quantity. when I checked quantities that are less than or equal to zero, the -1 and -2 apeared in the result. these values may have some meaning that we don't know of, like failed payment or checkout, it also could be a sign for lack of inventory, even so, since I am not sure about it, I will drop these rows."
   ]
  },
  {
   "cell_type": "code",
   "execution_count": 55,
   "metadata": {},
   "outputs": [
    {
     "data": {
      "text/html": [
       "<div>\n",
       "<style scoped>\n",
       "    .dataframe tbody tr th:only-of-type {\n",
       "        vertical-align: middle;\n",
       "    }\n",
       "\n",
       "    .dataframe tbody tr th {\n",
       "        vertical-align: top;\n",
       "    }\n",
       "\n",
       "    .dataframe thead th {\n",
       "        text-align: right;\n",
       "    }\n",
       "</style>\n",
       "<table border=\"1\" class=\"dataframe\">\n",
       "  <thead>\n",
       "    <tr style=\"text-align: right;\">\n",
       "      <th></th>\n",
       "      <th>order_id</th>\n",
       "      <th>user_id</th>\n",
       "      <th>variant_id</th>\n",
       "      <th>product_id</th>\n",
       "      <th>quantity</th>\n",
       "      <th>price</th>\n",
       "      <th>date</th>\n",
       "      <th>city_id</th>\n",
       "      <th>city_name</th>\n",
       "      <th>state_id</th>\n",
       "      <th>state_name</th>\n",
       "      <th>year</th>\n",
       "      <th>month</th>\n",
       "      <th>day</th>\n",
       "      <th>weekday</th>\n",
       "      <th>hour</th>\n",
       "      <th>weekdayName</th>\n",
       "    </tr>\n",
       "  </thead>\n",
       "  <tbody>\n",
       "    <tr>\n",
       "      <th>8092</th>\n",
       "      <td>261974253</td>\n",
       "      <td>TUZZfCvJsJOsdYm0i+yScQ==</td>\n",
       "      <td>1052427</td>\n",
       "      <td>604311</td>\n",
       "      <td>-1</td>\n",
       "      <td>3290000</td>\n",
       "      <td>2018-08-20 15:58:37</td>\n",
       "      <td>1968</td>\n",
       "      <td>ابهر</td>\n",
       "      <td>15</td>\n",
       "      <td>زنجان</td>\n",
       "      <td>2018</td>\n",
       "      <td>8</td>\n",
       "      <td>20</td>\n",
       "      <td>0</td>\n",
       "      <td>15</td>\n",
       "      <td>monday</td>\n",
       "    </tr>\n",
       "    <tr>\n",
       "      <th>8150</th>\n",
       "      <td>261973293</td>\n",
       "      <td>ruA+GneF9U24QfNziUpksA==</td>\n",
       "      <td>827057</td>\n",
       "      <td>487678</td>\n",
       "      <td>-1</td>\n",
       "      <td>1050000</td>\n",
       "      <td>2018-08-20 15:55:26</td>\n",
       "      <td>1631</td>\n",
       "      <td>ایوان</td>\n",
       "      <td>7</td>\n",
       "      <td>ایلام</td>\n",
       "      <td>2018</td>\n",
       "      <td>8</td>\n",
       "      <td>20</td>\n",
       "      <td>0</td>\n",
       "      <td>15</td>\n",
       "      <td>monday</td>\n",
       "    </tr>\n",
       "    <tr>\n",
       "      <th>8232</th>\n",
       "      <td>261972009</td>\n",
       "      <td>WUf8iPPO5CkJY8pWhfogvA==</td>\n",
       "      <td>305290</td>\n",
       "      <td>139113</td>\n",
       "      <td>-1</td>\n",
       "      <td>3360000</td>\n",
       "      <td>2018-08-20 15:51:16</td>\n",
       "      <td>1606</td>\n",
       "      <td>کاشان</td>\n",
       "      <td>5</td>\n",
       "      <td>اصفهان</td>\n",
       "      <td>2018</td>\n",
       "      <td>8</td>\n",
       "      <td>20</td>\n",
       "      <td>0</td>\n",
       "      <td>15</td>\n",
       "      <td>monday</td>\n",
       "    </tr>\n",
       "    <tr>\n",
       "      <th>8671</th>\n",
       "      <td>261964617</td>\n",
       "      <td>0w3hKupdm9rdrSY8VSjQ7Q==</td>\n",
       "      <td>412737</td>\n",
       "      <td>293073</td>\n",
       "      <td>-1</td>\n",
       "      <td>419000</td>\n",
       "      <td>2018-08-20 15:30:37</td>\n",
       "      <td>1698</td>\n",
       "      <td>تهران</td>\n",
       "      <td>9</td>\n",
       "      <td>تهران</td>\n",
       "      <td>2018</td>\n",
       "      <td>8</td>\n",
       "      <td>20</td>\n",
       "      <td>0</td>\n",
       "      <td>15</td>\n",
       "      <td>monday</td>\n",
       "    </tr>\n",
       "    <tr>\n",
       "      <th>8701</th>\n",
       "      <td>261963741</td>\n",
       "      <td>gUfYS02LtsI4ZAm7v6HWLA==</td>\n",
       "      <td>663683</td>\n",
       "      <td>426702</td>\n",
       "      <td>-1</td>\n",
       "      <td>390000</td>\n",
       "      <td>2018-08-20 15:28:38</td>\n",
       "      <td>1698</td>\n",
       "      <td>تهران</td>\n",
       "      <td>9</td>\n",
       "      <td>تهران</td>\n",
       "      <td>2018</td>\n",
       "      <td>8</td>\n",
       "      <td>20</td>\n",
       "      <td>0</td>\n",
       "      <td>15</td>\n",
       "      <td>monday</td>\n",
       "    </tr>\n",
       "  </tbody>\n",
       "</table>\n",
       "</div>"
      ],
      "text/plain": [
       "       order_id                   user_id  variant_id  product_id  quantity  \\\n",
       "8092  261974253  TUZZfCvJsJOsdYm0i+yScQ==     1052427      604311        -1   \n",
       "8150  261973293  ruA+GneF9U24QfNziUpksA==      827057      487678        -1   \n",
       "8232  261972009  WUf8iPPO5CkJY8pWhfogvA==      305290      139113        -1   \n",
       "8671  261964617  0w3hKupdm9rdrSY8VSjQ7Q==      412737      293073        -1   \n",
       "8701  261963741  gUfYS02LtsI4ZAm7v6HWLA==      663683      426702        -1   \n",
       "\n",
       "        price                date  city_id city_name  state_id state_name  \\\n",
       "8092  3290000 2018-08-20 15:58:37     1968      ابهر        15      زنجان   \n",
       "8150  1050000 2018-08-20 15:55:26     1631     ایوان         7      ایلام   \n",
       "8232  3360000 2018-08-20 15:51:16     1606     کاشان         5     اصفهان   \n",
       "8671   419000 2018-08-20 15:30:37     1698     تهران         9      تهران   \n",
       "8701   390000 2018-08-20 15:28:38     1698     تهران         9      تهران   \n",
       "\n",
       "      year  month  day  weekday  hour weekdayName  \n",
       "8092  2018      8   20        0    15      monday  \n",
       "8150  2018      8   20        0    15      monday  \n",
       "8232  2018      8   20        0    15      monday  \n",
       "8671  2018      8   20        0    15      monday  \n",
       "8701  2018      8   20        0    15      monday  "
      ]
     },
     "execution_count": 55,
     "metadata": {},
     "output_type": "execute_result"
    }
   ],
   "source": [
    "df[df['quantity']<0].head(5)"
   ]
  },
  {
   "cell_type": "code",
   "execution_count": 66,
   "metadata": {},
   "outputs": [],
   "source": [
    "df = df[df['quantity'] > 0]"
   ]
  },
  {
   "cell_type": "code",
   "execution_count": 57,
   "metadata": {},
   "outputs": [
    {
     "name": "stdout",
     "output_type": "stream",
     "text": [
      "first day 2018-08-12 06:19:19\n",
      "last day 2018-08-20 23:59:02\n"
     ]
    }
   ],
   "source": [
    "print('first day', df['date'].min())\n",
    "print('last day', df['date'].max())"
   ]
  },
  {
   "cell_type": "markdown",
   "metadata": {},
   "source": [
    "## This data set is gathered from 9 days transactions on the Digikala website, it's not enough for perform a heavy analysis on people behavior or something else, but it would be a good fun begining for geting some results and link it to other analysis that we are going to perform on other digikala datasets. So the result may not be completly accurate because of small period of time that is concluded in dataset but it wil give us some insights."
   ]
  },
  {
   "cell_type": "code",
   "execution_count": 58,
   "metadata": {},
   "outputs": [
    {
     "data": {
      "text/plain": [
       "<AxesSubplot:xlabel='quantity', ylabel='price'>"
      ]
     },
     "execution_count": 58,
     "metadata": {},
     "output_type": "execute_result"
    },
    {
     "data": {
      "image/png": "[encoded data removed]",
      "text/plain": [
       "<Figure size 432x288 with 1 Axes>"
      ]
     },
     "metadata": {
      "needs_background": "light"
     },
     "output_type": "display_data"
    }
   ],
   "source": [
    "sns.scatterplot(data=df, x='quantity', y='price')"
   ]
  },
  {
   "cell_type": "code",
   "execution_count": 61,
   "metadata": {},
   "outputs": [
    {
     "data": {
      "text/plain": [
       "<seaborn.axisgrid.FacetGrid at 0x1861b54f310>"
      ]
     },
     "execution_count": 61,
     "metadata": {},
     "output_type": "execute_result"
    },
    {
     "data": {
      "image/png": "[encoded data removed]",
      "text/plain": [
       "<Figure size 360x360 with 1 Axes>"
      ]
     },
     "metadata": {
      "needs_background": "light"
     },
     "output_type": "display_data"
    }
   ],
   "source": [
    "sns.displot(df['quantity'])"
   ]
  },
  {
   "cell_type": "code",
   "execution_count": 62,
   "metadata": {},
   "outputs": [
    {
     "data": {
      "text/plain": [
       "<AxesSubplot:xlabel='quantity', ylabel='price'>"
      ]
     },
     "execution_count": 62,
     "metadata": {},
     "output_type": "execute_result"
    },
    {
     "data": {
      "image/png": "[encoded data removed]",
      "text/plain": [
       "<Figure size 432x288 with 1 Axes>"
      ]
     },
     "metadata": {
      "needs_background": "light"
     },
     "output_type": "display_data"
    }
   ],
   "source": [
    "sns.scatterplot(data=df, x='quantity', y='price')"
   ]
  },
  {
   "cell_type": "code",
   "execution_count": 67,
   "metadata": {},
   "outputs": [
    {
     "data": {
      "text/plain": [
       "73139"
      ]
     },
     "execution_count": 67,
     "metadata": {},
     "output_type": "execute_result"
    }
   ],
   "source": [
    "df.order_id.nunique()"
   ]
  },
  {
   "cell_type": "code",
   "execution_count": 64,
   "metadata": {},
   "outputs": [
    {
     "data": {
      "text/plain": [
       "55484"
      ]
     },
     "execution_count": 64,
     "metadata": {},
     "output_type": "execute_result"
    }
   ],
   "source": [
    "df.user_id.nunique()"
   ]
  },
  {
   "cell_type": "markdown",
   "metadata": {},
   "source": [
    "## Apparently, every product in this dataset is part of an order that may have more products in it, so, as i checked there is 73139 orders from 55484 users."
   ]
  },
  {
   "cell_type": "code",
   "execution_count": 72,
   "metadata": {},
   "outputs": [],
   "source": [
    "user_df = df.groupby('user_id').agg({ \n",
    "                            'order_id': 'count',\n",
    "                            # 'variant_id': pd.Series.mode,\n",
    "                            'product_id': 'count',\n",
    "                            'quantity': 'sum',\n",
    "                            'price': 'sum',\n",
    "                            'city_name': pd.Series.mode,\n",
    "                            'state_id': pd.Series.mode,\n",
    "                            'state_name': pd.Series.mode\n",
    "                            }).reset_index()"
   ]
  },
  {
   "cell_type": "code",
   "execution_count": 73,
   "metadata": {},
   "outputs": [
    {
     "data": {
      "text/html": [
       "<div>\n",
       "<style scoped>\n",
       "    .dataframe tbody tr th:only-of-type {\n",
       "        vertical-align: middle;\n",
       "    }\n",
       "\n",
       "    .dataframe tbody tr th {\n",
       "        vertical-align: top;\n",
       "    }\n",
       "\n",
       "    .dataframe thead th {\n",
       "        text-align: right;\n",
       "    }\n",
       "</style>\n",
       "<table border=\"1\" class=\"dataframe\">\n",
       "  <thead>\n",
       "    <tr style=\"text-align: right;\">\n",
       "      <th></th>\n",
       "      <th>user_id</th>\n",
       "      <th>order_id</th>\n",
       "      <th>product_id</th>\n",
       "      <th>quantity</th>\n",
       "      <th>price</th>\n",
       "      <th>city_name</th>\n",
       "      <th>state_id</th>\n",
       "      <th>state_name</th>\n",
       "      <th>spentMean</th>\n",
       "    </tr>\n",
       "  </thead>\n",
       "  <tbody>\n",
       "    <tr>\n",
       "      <th>0</th>\n",
       "      <td>++2u4Q40bTeC0ZZDau1MIQ==</td>\n",
       "      <td>3</td>\n",
       "      <td>3</td>\n",
       "      <td>4</td>\n",
       "      <td>932000</td>\n",
       "      <td>تهران</td>\n",
       "      <td>9</td>\n",
       "      <td>تهران</td>\n",
       "      <td>233000.0</td>\n",
       "    </tr>\n",
       "    <tr>\n",
       "      <th>1</th>\n",
       "      <td>++HwHhPvBHtXEIN36fDT5w==</td>\n",
       "      <td>6</td>\n",
       "      <td>6</td>\n",
       "      <td>8</td>\n",
       "      <td>1176000</td>\n",
       "      <td>الیگودرز</td>\n",
       "      <td>27</td>\n",
       "      <td>لرستان</td>\n",
       "      <td>147000.0</td>\n",
       "    </tr>\n",
       "    <tr>\n",
       "      <th>2</th>\n",
       "      <td>++IfjhhQ33j7i4NHdBUJkQ==</td>\n",
       "      <td>1</td>\n",
       "      <td>1</td>\n",
       "      <td>1</td>\n",
       "      <td>990000</td>\n",
       "      <td>تهران</td>\n",
       "      <td>9</td>\n",
       "      <td>تهران</td>\n",
       "      <td>990000.0</td>\n",
       "    </tr>\n",
       "    <tr>\n",
       "      <th>3</th>\n",
       "      <td>++KPSp+1ZC6KXlYAS8VcKg==</td>\n",
       "      <td>15</td>\n",
       "      <td>15</td>\n",
       "      <td>15</td>\n",
       "      <td>1690500</td>\n",
       "      <td>ملارد</td>\n",
       "      <td>9</td>\n",
       "      <td>تهران</td>\n",
       "      <td>112700.0</td>\n",
       "    </tr>\n",
       "  </tbody>\n",
       "</table>\n",
       "</div>"
      ],
      "text/plain": [
       "                    user_id  order_id  product_id  quantity    price  \\\n",
       "0  ++2u4Q40bTeC0ZZDau1MIQ==         3           3         4   932000   \n",
       "1  ++HwHhPvBHtXEIN36fDT5w==         6           6         8  1176000   \n",
       "2  ++IfjhhQ33j7i4NHdBUJkQ==         1           1         1   990000   \n",
       "3  ++KPSp+1ZC6KXlYAS8VcKg==        15          15        15  1690500   \n",
       "\n",
       "  city_name  state_id state_name  spentMean  \n",
       "0     تهران         9      تهران   233000.0  \n",
       "1  الیگودرز        27     لرستان   147000.0  \n",
       "2     تهران         9      تهران   990000.0  \n",
       "3     ملارد         9      تهران   112700.0  "
      ]
     },
     "execution_count": 73,
     "metadata": {},
     "output_type": "execute_result"
    }
   ],
   "source": [
    "user_df['spentMean'] = user_df['price'] / user_df['quantity']\n",
    "user_df.head(4)"
   ]
  },
  {
   "cell_type": "code",
   "execution_count": 74,
   "metadata": {},
   "outputs": [
    {
     "data": {
      "text/html": [
       "<div>\n",
       "<style scoped>\n",
       "    .dataframe tbody tr th:only-of-type {\n",
       "        vertical-align: middle;\n",
       "    }\n",
       "\n",
       "    .dataframe tbody tr th {\n",
       "        vertical-align: top;\n",
       "    }\n",
       "\n",
       "    .dataframe thead th {\n",
       "        text-align: right;\n",
       "    }\n",
       "</style>\n",
       "<table border=\"1\" class=\"dataframe\">\n",
       "  <thead>\n",
       "    <tr style=\"text-align: right;\">\n",
       "      <th></th>\n",
       "      <th>order_id</th>\n",
       "      <th>user_id</th>\n",
       "      <th>variant_id</th>\n",
       "      <th>product_id</th>\n",
       "      <th>quantity</th>\n",
       "      <th>price</th>\n",
       "      <th>date</th>\n",
       "      <th>city_id</th>\n",
       "      <th>city_name</th>\n",
       "      <th>state_id</th>\n",
       "      <th>state_name</th>\n",
       "      <th>year</th>\n",
       "      <th>month</th>\n",
       "      <th>day</th>\n",
       "      <th>weekday</th>\n",
       "      <th>hour</th>\n",
       "      <th>weekdayName</th>\n",
       "    </tr>\n",
       "  </thead>\n",
       "  <tbody>\n",
       "    <tr>\n",
       "      <th>0</th>\n",
       "      <td>262108413</td>\n",
       "      <td>SlcW7YT835JSzh22o7zRCA==</td>\n",
       "      <td>922274</td>\n",
       "      <td>406523</td>\n",
       "      <td>1</td>\n",
       "      <td>139000</td>\n",
       "      <td>2018-08-20 23:59:02</td>\n",
       "      <td>1698</td>\n",
       "      <td>تهران</td>\n",
       "      <td>9</td>\n",
       "      <td>تهران</td>\n",
       "      <td>2018</td>\n",
       "      <td>8</td>\n",
       "      <td>20</td>\n",
       "      <td>0</td>\n",
       "      <td>23</td>\n",
       "      <td>monday</td>\n",
       "    </tr>\n",
       "    <tr>\n",
       "      <th>1</th>\n",
       "      <td>262108413</td>\n",
       "      <td>SlcW7YT835JSzh22o7zRCA==</td>\n",
       "      <td>685868</td>\n",
       "      <td>435013</td>\n",
       "      <td>1</td>\n",
       "      <td>890000</td>\n",
       "      <td>2018-08-20 23:59:02</td>\n",
       "      <td>1698</td>\n",
       "      <td>تهران</td>\n",
       "      <td>9</td>\n",
       "      <td>تهران</td>\n",
       "      <td>2018</td>\n",
       "      <td>8</td>\n",
       "      <td>20</td>\n",
       "      <td>0</td>\n",
       "      <td>23</td>\n",
       "      <td>monday</td>\n",
       "    </tr>\n",
       "    <tr>\n",
       "      <th>2</th>\n",
       "      <td>262108353</td>\n",
       "      <td>NZidrSuPdqoG7RedrFakeA==</td>\n",
       "      <td>275077</td>\n",
       "      <td>163947</td>\n",
       "      <td>1</td>\n",
       "      <td>9890000</td>\n",
       "      <td>2018-08-20 23:58:39</td>\n",
       "      <td>1698</td>\n",
       "      <td>تهران</td>\n",
       "      <td>9</td>\n",
       "      <td>تهران</td>\n",
       "      <td>2018</td>\n",
       "      <td>8</td>\n",
       "      <td>20</td>\n",
       "      <td>0</td>\n",
       "      <td>23</td>\n",
       "      <td>monday</td>\n",
       "    </tr>\n",
       "    <tr>\n",
       "      <th>3</th>\n",
       "      <td>262108341</td>\n",
       "      <td>dLQImlfXMsgSub4OcfJpGg==</td>\n",
       "      <td>679393</td>\n",
       "      <td>158560</td>\n",
       "      <td>1</td>\n",
       "      <td>349000</td>\n",
       "      <td>2018-08-20 23:58:35</td>\n",
       "      <td>1855</td>\n",
       "      <td>مشهد</td>\n",
       "      <td>12</td>\n",
       "      <td>خراسان رضوی</td>\n",
       "      <td>2018</td>\n",
       "      <td>8</td>\n",
       "      <td>20</td>\n",
       "      <td>0</td>\n",
       "      <td>23</td>\n",
       "      <td>monday</td>\n",
       "    </tr>\n",
       "  </tbody>\n",
       "</table>\n",
       "</div>"
      ],
      "text/plain": [
       "    order_id                   user_id  variant_id  product_id  quantity  \\\n",
       "0  262108413  SlcW7YT835JSzh22o7zRCA==      922274      406523         1   \n",
       "1  262108413  SlcW7YT835JSzh22o7zRCA==      685868      435013         1   \n",
       "2  262108353  NZidrSuPdqoG7RedrFakeA==      275077      163947         1   \n",
       "3  262108341  dLQImlfXMsgSub4OcfJpGg==      679393      158560         1   \n",
       "\n",
       "     price                date  city_id city_name  state_id   state_name  \\\n",
       "0   139000 2018-08-20 23:59:02     1698     تهران         9        تهران   \n",
       "1   890000 2018-08-20 23:59:02     1698     تهران         9        تهران   \n",
       "2  9890000 2018-08-20 23:58:39     1698     تهران         9        تهران   \n",
       "3   349000 2018-08-20 23:58:35     1855      مشهد        12  خراسان رضوی   \n",
       "\n",
       "   year  month  day  weekday  hour weekdayName  \n",
       "0  2018      8   20        0    23      monday  \n",
       "1  2018      8   20        0    23      monday  \n",
       "2  2018      8   20        0    23      monday  \n",
       "3  2018      8   20        0    23      monday  "
      ]
     },
     "execution_count": 74,
     "metadata": {},
     "output_type": "execute_result"
    }
   ],
   "source": [
    "df['year'] = df['date'].dt.year\n",
    "df['month'] = df['date'].dt.month\n",
    "df['day'] = df['date'].dt.day\n",
    "df['weekday'] = df['date'].dt.dayofweek\n",
    "df['hour'] = df['date'].dt.hour\n",
    "df.head(4)"
   ]
  },
  {
   "cell_type": "code",
   "execution_count": 75,
   "metadata": {},
   "outputs": [
    {
     "data": {
      "text/html": [
       "<div>\n",
       "<style scoped>\n",
       "    .dataframe tbody tr th:only-of-type {\n",
       "        vertical-align: middle;\n",
       "    }\n",
       "\n",
       "    .dataframe tbody tr th {\n",
       "        vertical-align: top;\n",
       "    }\n",
       "\n",
       "    .dataframe thead th {\n",
       "        text-align: right;\n",
       "    }\n",
       "</style>\n",
       "<table border=\"1\" class=\"dataframe\">\n",
       "  <thead>\n",
       "    <tr style=\"text-align: right;\">\n",
       "      <th></th>\n",
       "      <th>order_id</th>\n",
       "      <th>user_id</th>\n",
       "      <th>variant_id</th>\n",
       "      <th>product_id</th>\n",
       "      <th>quantity</th>\n",
       "      <th>price</th>\n",
       "      <th>date</th>\n",
       "      <th>city_id</th>\n",
       "      <th>city_name</th>\n",
       "      <th>state_id</th>\n",
       "      <th>state_name</th>\n",
       "      <th>year</th>\n",
       "      <th>month</th>\n",
       "      <th>day</th>\n",
       "      <th>weekday</th>\n",
       "      <th>hour</th>\n",
       "      <th>weekdayName</th>\n",
       "    </tr>\n",
       "  </thead>\n",
       "  <tbody>\n",
       "    <tr>\n",
       "      <th>0</th>\n",
       "      <td>262108413</td>\n",
       "      <td>SlcW7YT835JSzh22o7zRCA==</td>\n",
       "      <td>922274</td>\n",
       "      <td>406523</td>\n",
       "      <td>1</td>\n",
       "      <td>139000</td>\n",
       "      <td>2018-08-20 23:59:02</td>\n",
       "      <td>1698</td>\n",
       "      <td>تهران</td>\n",
       "      <td>9</td>\n",
       "      <td>تهران</td>\n",
       "      <td>2018</td>\n",
       "      <td>8</td>\n",
       "      <td>20</td>\n",
       "      <td>0</td>\n",
       "      <td>23</td>\n",
       "      <td>monday</td>\n",
       "    </tr>\n",
       "    <tr>\n",
       "      <th>1</th>\n",
       "      <td>262108413</td>\n",
       "      <td>SlcW7YT835JSzh22o7zRCA==</td>\n",
       "      <td>685868</td>\n",
       "      <td>435013</td>\n",
       "      <td>1</td>\n",
       "      <td>890000</td>\n",
       "      <td>2018-08-20 23:59:02</td>\n",
       "      <td>1698</td>\n",
       "      <td>تهران</td>\n",
       "      <td>9</td>\n",
       "      <td>تهران</td>\n",
       "      <td>2018</td>\n",
       "      <td>8</td>\n",
       "      <td>20</td>\n",
       "      <td>0</td>\n",
       "      <td>23</td>\n",
       "      <td>monday</td>\n",
       "    </tr>\n",
       "    <tr>\n",
       "      <th>2</th>\n",
       "      <td>262108353</td>\n",
       "      <td>NZidrSuPdqoG7RedrFakeA==</td>\n",
       "      <td>275077</td>\n",
       "      <td>163947</td>\n",
       "      <td>1</td>\n",
       "      <td>9890000</td>\n",
       "      <td>2018-08-20 23:58:39</td>\n",
       "      <td>1698</td>\n",
       "      <td>تهران</td>\n",
       "      <td>9</td>\n",
       "      <td>تهران</td>\n",
       "      <td>2018</td>\n",
       "      <td>8</td>\n",
       "      <td>20</td>\n",
       "      <td>0</td>\n",
       "      <td>23</td>\n",
       "      <td>monday</td>\n",
       "    </tr>\n",
       "    <tr>\n",
       "      <th>3</th>\n",
       "      <td>262108341</td>\n",
       "      <td>dLQImlfXMsgSub4OcfJpGg==</td>\n",
       "      <td>679393</td>\n",
       "      <td>158560</td>\n",
       "      <td>1</td>\n",
       "      <td>349000</td>\n",
       "      <td>2018-08-20 23:58:35</td>\n",
       "      <td>1855</td>\n",
       "      <td>مشهد</td>\n",
       "      <td>12</td>\n",
       "      <td>خراسان رضوی</td>\n",
       "      <td>2018</td>\n",
       "      <td>8</td>\n",
       "      <td>20</td>\n",
       "      <td>0</td>\n",
       "      <td>23</td>\n",
       "      <td>monday</td>\n",
       "    </tr>\n",
       "  </tbody>\n",
       "</table>\n",
       "</div>"
      ],
      "text/plain": [
       "    order_id                   user_id  variant_id  product_id  quantity  \\\n",
       "0  262108413  SlcW7YT835JSzh22o7zRCA==      922274      406523         1   \n",
       "1  262108413  SlcW7YT835JSzh22o7zRCA==      685868      435013         1   \n",
       "2  262108353  NZidrSuPdqoG7RedrFakeA==      275077      163947         1   \n",
       "3  262108341  dLQImlfXMsgSub4OcfJpGg==      679393      158560         1   \n",
       "\n",
       "     price                date  city_id city_name  state_id   state_name  \\\n",
       "0   139000 2018-08-20 23:59:02     1698     تهران         9        تهران   \n",
       "1   890000 2018-08-20 23:59:02     1698     تهران         9        تهران   \n",
       "2  9890000 2018-08-20 23:58:39     1698     تهران         9        تهران   \n",
       "3   349000 2018-08-20 23:58:35     1855      مشهد        12  خراسان رضوی   \n",
       "\n",
       "   year  month  day  weekday  hour weekdayName  \n",
       "0  2018      8   20        0    23      monday  \n",
       "1  2018      8   20        0    23      monday  \n",
       "2  2018      8   20        0    23      monday  \n",
       "3  2018      8   20        0    23      monday  "
      ]
     },
     "execution_count": 75,
     "metadata": {},
     "output_type": "execute_result"
    }
   ],
   "source": [
    "def weekDayName(x):\n",
    "    if x == 0: return 'monday'\n",
    "    elif x == 1: return 'tuesday'\n",
    "    elif x == 2: return 'wednesday'\n",
    "    elif x == 3: return 'thursday'\n",
    "    elif x == 4: return 'friday'\n",
    "    elif x == 5: return 'saturday'\n",
    "    elif x == 6: return 'sunday'\n",
    "df['weekdayName'] = df['weekday'].apply(lambda x: weekDayName(x))\n",
    "df.head(4)"
   ]
  },
  {
   "cell_type": "markdown",
   "metadata": {},
   "source": [
    "## since the priod of time is small, I have to use all I have, so to get a bit more information about customers, I tried to extract specific data about time and date of purchases."
   ]
  },
  {
   "cell_type": "code",
   "execution_count": 78,
   "metadata": {},
   "outputs": [
    {
     "data": {
      "text/html": [
       "<div>\n",
       "<style scoped>\n",
       "    .dataframe tbody tr th:only-of-type {\n",
       "        vertical-align: middle;\n",
       "    }\n",
       "\n",
       "    .dataframe tbody tr th {\n",
       "        vertical-align: top;\n",
       "    }\n",
       "\n",
       "    .dataframe thead th {\n",
       "        text-align: right;\n",
       "    }\n",
       "</style>\n",
       "<table border=\"1\" class=\"dataframe\">\n",
       "  <thead>\n",
       "    <tr style=\"text-align: right;\">\n",
       "      <th></th>\n",
       "      <th>weekdayName</th>\n",
       "      <th>purchase_amount</th>\n",
       "    </tr>\n",
       "  </thead>\n",
       "  <tbody>\n",
       "    <tr>\n",
       "      <th>0</th>\n",
       "      <td>friday</td>\n",
       "      <td>17388</td>\n",
       "    </tr>\n",
       "    <tr>\n",
       "      <th>1</th>\n",
       "      <td>monday</td>\n",
       "      <td>45118</td>\n",
       "    </tr>\n",
       "    <tr>\n",
       "      <th>2</th>\n",
       "      <td>saturday</td>\n",
       "      <td>29893</td>\n",
       "    </tr>\n",
       "    <tr>\n",
       "      <th>3</th>\n",
       "      <td>sunday</td>\n",
       "      <td>42623</td>\n",
       "    </tr>\n",
       "    <tr>\n",
       "      <th>4</th>\n",
       "      <td>thursday</td>\n",
       "      <td>16636</td>\n",
       "    </tr>\n",
       "    <tr>\n",
       "      <th>5</th>\n",
       "      <td>tuesday</td>\n",
       "      <td>21015</td>\n",
       "    </tr>\n",
       "    <tr>\n",
       "      <th>6</th>\n",
       "      <td>wednesday</td>\n",
       "      <td>21099</td>\n",
       "    </tr>\n",
       "  </tbody>\n",
       "</table>\n",
       "</div>"
      ],
      "text/plain": [
       "  weekdayName  purchase_amount\n",
       "0      friday            17388\n",
       "1      monday            45118\n",
       "2    saturday            29893\n",
       "3      sunday            42623\n",
       "4    thursday            16636\n",
       "5     tuesday            21015\n",
       "6   wednesday            21099"
      ]
     },
     "execution_count": 78,
     "metadata": {},
     "output_type": "execute_result"
    }
   ],
   "source": [
    "weekday_df = pd.DataFrame(df.groupby('weekdayName')['order_id'].count()).reset_index()\n",
    "weekday_df = weekday_df.rename(columns={'order_id': 'purchase_amount'})\n",
    "weekday_df"
   ]
  },
  {
   "cell_type": "code",
   "execution_count": 82,
   "metadata": {},
   "outputs": [
    {
     "data": {
      "text/plain": [
       "<AxesSubplot:xlabel='weekdayName', ylabel='purchase_amount'>"
      ]
     },
     "execution_count": 82,
     "metadata": {},
     "output_type": "execute_result"
    },
    {
     "data": {
      "image/png": "[encoded data removed]",
      "text/plain": [
       "<Figure size 576x432 with 1 Axes>"
      ]
     },
     "metadata": {
      "needs_background": "light"
     },
     "output_type": "display_data"
    }
   ],
   "source": [
    "plt.figure(figsize=(8, 6))\n",
    "plt.xticks(rotation=45)\n",
    "sns.barplot(data=weekday_df, x='weekdayName', y='purchase_amount', color='#3297a8')"
   ]
  },
  {
   "cell_type": "code",
   "execution_count": 83,
   "metadata": {},
   "outputs": [
    {
     "data": {
      "text/html": [
       "<div>\n",
       "<style scoped>\n",
       "    .dataframe tbody tr th:only-of-type {\n",
       "        vertical-align: middle;\n",
       "    }\n",
       "\n",
       "    .dataframe tbody tr th {\n",
       "        vertical-align: top;\n",
       "    }\n",
       "\n",
       "    .dataframe thead th {\n",
       "        text-align: right;\n",
       "    }\n",
       "</style>\n",
       "<table border=\"1\" class=\"dataframe\">\n",
       "  <thead>\n",
       "    <tr style=\"text-align: right;\">\n",
       "      <th></th>\n",
       "      <th>hour</th>\n",
       "      <th>purchase_amount</th>\n",
       "    </tr>\n",
       "  </thead>\n",
       "  <tbody>\n",
       "    <tr>\n",
       "      <th>0</th>\n",
       "      <td>0</td>\n",
       "      <td>16206</td>\n",
       "    </tr>\n",
       "    <tr>\n",
       "      <th>1</th>\n",
       "      <td>1</td>\n",
       "      <td>9787</td>\n",
       "    </tr>\n",
       "    <tr>\n",
       "      <th>2</th>\n",
       "      <td>2</td>\n",
       "      <td>5165</td>\n",
       "    </tr>\n",
       "    <tr>\n",
       "      <th>3</th>\n",
       "      <td>3</td>\n",
       "      <td>2685</td>\n",
       "    </tr>\n",
       "  </tbody>\n",
       "</table>\n",
       "</div>"
      ],
      "text/plain": [
       "   hour  purchase_amount\n",
       "0     0            16206\n",
       "1     1             9787\n",
       "2     2             5165\n",
       "3     3             2685"
      ]
     },
     "execution_count": 83,
     "metadata": {},
     "output_type": "execute_result"
    }
   ],
   "source": [
    "hour_df = pd.DataFrame(df.groupby('hour')['order_id'].count()).reset_index()\n",
    "hour_df = hour_df.rename(columns={'order_id': 'purchase_amount'})\n",
    "hour_df.head(4)"
   ]
  },
  {
   "cell_type": "code",
   "execution_count": 88,
   "metadata": {},
   "outputs": [
    {
     "data": {
      "text/plain": [
       "<AxesSubplot:xlabel='hour', ylabel='purchase_amount'>"
      ]
     },
     "execution_count": 88,
     "metadata": {},
     "output_type": "execute_result"
    },
    {
     "data": {
      "image/png": "[encoded data removed]",
      "text/plain": [
       "<Figure size 576x432 with 1 Axes>"
      ]
     },
     "metadata": {
      "needs_background": "light"
     },
     "output_type": "display_data"
    }
   ],
   "source": [
    "plt.figure(figsize=(8, 6))\n",
    "sns.barplot(data=hour_df, x='hour', y='purchase_amount', color='#3297a8')"
   ]
  },
  {
   "cell_type": "code",
   "execution_count": 89,
   "metadata": {},
   "outputs": [
    {
     "data": {
      "text/html": [
       "<div>\n",
       "<style scoped>\n",
       "    .dataframe tbody tr th:only-of-type {\n",
       "        vertical-align: middle;\n",
       "    }\n",
       "\n",
       "    .dataframe tbody tr th {\n",
       "        vertical-align: top;\n",
       "    }\n",
       "\n",
       "    .dataframe thead th {\n",
       "        text-align: right;\n",
       "    }\n",
       "</style>\n",
       "<table border=\"1\" class=\"dataframe\">\n",
       "  <thead>\n",
       "    <tr style=\"text-align: right;\">\n",
       "      <th></th>\n",
       "      <th>day</th>\n",
       "      <th>purchase_amount</th>\n",
       "    </tr>\n",
       "  </thead>\n",
       "  <tbody>\n",
       "    <tr>\n",
       "      <th>0</th>\n",
       "      <td>12</td>\n",
       "      <td>18820</td>\n",
       "    </tr>\n",
       "    <tr>\n",
       "      <th>1</th>\n",
       "      <td>13</td>\n",
       "      <td>23257</td>\n",
       "    </tr>\n",
       "    <tr>\n",
       "      <th>2</th>\n",
       "      <td>14</td>\n",
       "      <td>21015</td>\n",
       "    </tr>\n",
       "    <tr>\n",
       "      <th>3</th>\n",
       "      <td>15</td>\n",
       "      <td>21099</td>\n",
       "    </tr>\n",
       "    <tr>\n",
       "      <th>4</th>\n",
       "      <td>16</td>\n",
       "      <td>16636</td>\n",
       "    </tr>\n",
       "    <tr>\n",
       "      <th>5</th>\n",
       "      <td>17</td>\n",
       "      <td>17388</td>\n",
       "    </tr>\n",
       "    <tr>\n",
       "      <th>6</th>\n",
       "      <td>18</td>\n",
       "      <td>29893</td>\n",
       "    </tr>\n",
       "    <tr>\n",
       "      <th>7</th>\n",
       "      <td>19</td>\n",
       "      <td>23803</td>\n",
       "    </tr>\n",
       "    <tr>\n",
       "      <th>8</th>\n",
       "      <td>20</td>\n",
       "      <td>21861</td>\n",
       "    </tr>\n",
       "  </tbody>\n",
       "</table>\n",
       "</div>"
      ],
      "text/plain": [
       "   day  purchase_amount\n",
       "0   12            18820\n",
       "1   13            23257\n",
       "2   14            21015\n",
       "3   15            21099\n",
       "4   16            16636\n",
       "5   17            17388\n",
       "6   18            29893\n",
       "7   19            23803\n",
       "8   20            21861"
      ]
     },
     "execution_count": 89,
     "metadata": {},
     "output_type": "execute_result"
    }
   ],
   "source": [
    "day_df = pd.DataFrame(df.groupby('day')['order_id'].count()).reset_index()\n",
    "day_df = day_df.rename(columns={'order_id': 'purchase_amount'})\n",
    "day_df"
   ]
  },
  {
   "cell_type": "code",
   "execution_count": 91,
   "metadata": {},
   "outputs": [
    {
     "data": {
      "text/plain": [
       "<AxesSubplot:xlabel='day', ylabel='purchase_amount'>"
      ]
     },
     "execution_count": 91,
     "metadata": {},
     "output_type": "execute_result"
    },
    {
     "data": {
      "image/png": "[encoded data removed]",
      "text/plain": [
       "<Figure size 576x432 with 1 Axes>"
      ]
     },
     "metadata": {
      "needs_background": "light"
     },
     "output_type": "display_data"
    }
   ],
   "source": [
    "plt.figure(figsize=(8, 6))\n",
    "sns.barplot(data=day_df, x='day', y='purchase_amount', color='#3297a8')"
   ]
  },
  {
   "cell_type": "code",
   "execution_count": 101,
   "metadata": {},
   "outputs": [
    {
     "data": {
      "text/html": [
       "<div>\n",
       "<style scoped>\n",
       "    .dataframe tbody tr th:only-of-type {\n",
       "        vertical-align: middle;\n",
       "    }\n",
       "\n",
       "    .dataframe tbody tr th {\n",
       "        vertical-align: top;\n",
       "    }\n",
       "\n",
       "    .dataframe thead th {\n",
       "        text-align: right;\n",
       "    }\n",
       "</style>\n",
       "<table border=\"1\" class=\"dataframe\">\n",
       "  <thead>\n",
       "    <tr style=\"text-align: right;\">\n",
       "      <th></th>\n",
       "      <th>state_id</th>\n",
       "      <th>purchace_amount</th>\n",
       "    </tr>\n",
       "  </thead>\n",
       "  <tbody>\n",
       "    <tr>\n",
       "      <th>0</th>\n",
       "      <td>2</td>\n",
       "      <td>3520030674</td>\n",
       "    </tr>\n",
       "    <tr>\n",
       "      <th>1</th>\n",
       "      <td>3</td>\n",
       "      <td>1896770600</td>\n",
       "    </tr>\n",
       "    <tr>\n",
       "      <th>2</th>\n",
       "      <td>4</td>\n",
       "      <td>1339792840</td>\n",
       "    </tr>\n",
       "    <tr>\n",
       "      <th>3</th>\n",
       "      <td>5</td>\n",
       "      <td>10404209149</td>\n",
       "    </tr>\n",
       "  </tbody>\n",
       "</table>\n",
       "</div>"
      ],
      "text/plain": [
       "   state_id  purchace_amount\n",
       "0         2       3520030674\n",
       "1         3       1896770600\n",
       "2         4       1339792840\n",
       "3         5      10404209149"
      ]
     },
     "execution_count": 101,
     "metadata": {},
     "output_type": "execute_result"
    }
   ],
   "source": [
    "state_df = pd.DataFrame(df.groupby('state_id')['price'].sum()).reset_index()\n",
    "state_df = state_df.rename(columns={'price': 'purchace_amount'})\n",
    "state_df.head(4)"
   ]
  },
  {
   "cell_type": "code",
   "execution_count": 102,
   "metadata": {},
   "outputs": [
    {
     "data": {
      "text/plain": [
       "<AxesSubplot:xlabel='state_id', ylabel='purchace_amount'>"
      ]
     },
     "execution_count": 102,
     "metadata": {},
     "output_type": "execute_result"
    },
    {
     "data": {
      "image/png": "[encoded data removed]",
      "text/plain": [
       "<Figure size 576x432 with 1 Axes>"
      ]
     },
     "metadata": {
      "needs_background": "light"
     },
     "output_type": "display_data"
    }
   ],
   "source": [
    "import matplotlib.pyplot as plt\n",
    "\n",
    "plt.figure(figsize=(8, 6))\n",
    "# plt.xticks(rotation=45)\n",
    "sns.barplot(data=state_df, x='state_id', y='purchace_amount', color='#3297a8')"
   ]
  },
  {
   "cell_type": "code",
   "execution_count": 97,
   "metadata": {},
   "outputs": [
    {
     "data": {
      "text/html": [
       "<div>\n",
       "<style scoped>\n",
       "    .dataframe tbody tr th:only-of-type {\n",
       "        vertical-align: middle;\n",
       "    }\n",
       "\n",
       "    .dataframe tbody tr th {\n",
       "        vertical-align: top;\n",
       "    }\n",
       "\n",
       "    .dataframe thead th {\n",
       "        text-align: right;\n",
       "    }\n",
       "</style>\n",
       "<table border=\"1\" class=\"dataframe\">\n",
       "  <thead>\n",
       "    <tr style=\"text-align: right;\">\n",
       "      <th></th>\n",
       "      <th>state_id</th>\n",
       "      <th>order_frequency</th>\n",
       "    </tr>\n",
       "  </thead>\n",
       "  <tbody>\n",
       "    <tr>\n",
       "      <th>0</th>\n",
       "      <td>2</td>\n",
       "      <td>3472</td>\n",
       "    </tr>\n",
       "    <tr>\n",
       "      <th>1</th>\n",
       "      <td>3</td>\n",
       "      <td>2175</td>\n",
       "    </tr>\n",
       "    <tr>\n",
       "      <th>2</th>\n",
       "      <td>4</td>\n",
       "      <td>1133</td>\n",
       "    </tr>\n",
       "    <tr>\n",
       "      <th>3</th>\n",
       "      <td>5</td>\n",
       "      <td>9182</td>\n",
       "    </tr>\n",
       "  </tbody>\n",
       "</table>\n",
       "</div>"
      ],
      "text/plain": [
       "   state_id  order_frequency\n",
       "0         2             3472\n",
       "1         3             2175\n",
       "2         4             1133\n",
       "3         5             9182"
      ]
     },
     "execution_count": 97,
     "metadata": {},
     "output_type": "execute_result"
    }
   ],
   "source": [
    "order_state_df = pd.DataFrame(df.groupby('state_id')['order_id'].count()).reset_index()\n",
    "order_state_df = order_state_df.rename(columns={'order_id': 'order_frequency'})\n",
    "order_state_df.head(4)"
   ]
  },
  {
   "cell_type": "code",
   "execution_count": 98,
   "metadata": {},
   "outputs": [
    {
     "data": {
      "text/plain": [
       "<AxesSubplot:xlabel='state_id', ylabel='order_frequency'>"
      ]
     },
     "execution_count": 98,
     "metadata": {},
     "output_type": "execute_result"
    },
    {
     "data": {
      "image/png": "[encoded data removed]",
      "text/plain": [
       "<Figure size 576x432 with 1 Axes>"
      ]
     },
     "metadata": {
      "needs_background": "light"
     },
     "output_type": "display_data"
    }
   ],
   "source": [
    "import matplotlib.pyplot as plt\n",
    "\n",
    "plt.figure(figsize=(8, 6))\n",
    "# plt.xticks(rotation=45)\n",
    "sns.barplot(data=order_state_df, x='state_id', y='order_frequency', color='#3297a8')"
   ]
  },
  {
   "cell_type": "code",
   "execution_count": 96,
   "metadata": {},
   "outputs": [
    {
     "data": {
      "text/plain": [
       "<AxesSubplot:title={'center':'Frequency of order by Day'}>"
      ]
     },
     "execution_count": 96,
     "metadata": {},
     "output_type": "execute_result"
    },
    {
     "data": {
      "image/png": "[encoded data removed]",
      "text/plain": [
       "<Figure size 864x432 with 1 Axes>"
      ]
     },
     "metadata": {
      "needs_background": "light"
     },
     "output_type": "display_data"
    }
   ],
   "source": [
    "plt.figure(figsize=(12,6))\n",
    "plt.title(\"Frequency of order by Day\", fontsize=15)\n",
    "order_per_day_df = df.groupby(['order_id'])['day'].unique()\n",
    "order_per_day_df.value_counts().sort_index().plot.bar(color='#3297a8')"
   ]
  },
  {
   "cell_type": "code",
   "execution_count": 103,
   "metadata": {},
   "outputs": [
    {
     "data": {
      "image/png": "[encoded data removed]",
      "text/plain": [
       "<Figure size 864x432 with 2 Axes>"
      ]
     },
     "metadata": {
      "needs_background": "light"
     },
     "output_type": "display_data"
    }
   ],
   "source": [
    "day_hour_df  = df.groupby([\"day\", \"hour\"])[\"order_id\"].unique().reset_index()\n",
    "day_hour_df[\"order_id\"] = day_hour_df[\"order_id\"].apply(len)\n",
    "\n",
    "#grouped_df = df.groupby([\"Weekday\", \"hour\"])[\"order_id\"].aggregate(\"count\").reset_index()\n",
    "day_hour_df = day_hour_df.pivot('day', 'hour', 'order_id')\n",
    "\n",
    "plt.figure(figsize=(12,6))\n",
    "sns.heatmap(day_hour_df)\n",
    "plt.title(\"Frequency of Day Vs Hour of day\")\n",
    "plt.show()"
   ]
  },
  {
   "cell_type": "code",
   "execution_count": 104,
   "metadata": {},
   "outputs": [
    {
     "data": {
      "text/plain": [
       "<AxesSubplot:title={'center':'Frequency of order by Weekday'}>"
      ]
     },
     "execution_count": 104,
     "metadata": {},
     "output_type": "execute_result"
    },
    {
     "data": {
      "image/png": "[encoded data removed]",
      "text/plain": [
       "<Figure size 864x432 with 1 Axes>"
      ]
     },
     "metadata": {
      "needs_background": "light"
     },
     "output_type": "display_data"
    }
   ],
   "source": [
    "plt.figure(figsize=(12,6))\n",
    "plt.title(\"Frequency of order by Weekday\", fontsize=15)\n",
    "order_weekday = df.groupby(['order_id'])['weekdayName'].unique()\n",
    "order_weekday.value_counts().sort_index().plot.bar(color='#3297a8')"
   ]
  },
  {
   "cell_type": "code",
   "execution_count": 105,
   "metadata": {},
   "outputs": [
    {
     "data": {
      "text/plain": [
       "<AxesSubplot:title={'center':'Frequency of order by hour of day'}>"
      ]
     },
     "execution_count": 105,
     "metadata": {},
     "output_type": "execute_result"
    },
    {
     "data": {
      "image/png": "[encoded data removed]",
      "text/plain": [
       "<Figure size 864x432 with 1 Axes>"
      ]
     },
     "metadata": {
      "needs_background": "light"
     },
     "output_type": "display_data"
    }
   ],
   "source": [
    "plt.figure(figsize=(12,6))\n",
    "plt.title(\"Frequency of order by hour of day\", fontsize=15)\n",
    "order_hour_df = df.groupby(['order_id'])['hour'].unique()\n",
    "(order_hour_df.value_counts()).iloc[0:-1].sort_index().plot.bar(color='#3297a8')"
   ]
  },
  {
   "cell_type": "code",
   "execution_count": 106,
   "metadata": {},
   "outputs": [
    {
     "data": {
      "image/png": "[encoded data removed]",
      "text/plain": [
       "<Figure size 864x432 with 2 Axes>"
      ]
     },
     "metadata": {
      "needs_background": "light"
     },
     "output_type": "display_data"
    }
   ],
   "source": [
    "weekday_hour_df  = df.groupby([\"weekdayName\", \"hour\"])[\"order_id\"].unique().reset_index()\n",
    "weekday_hour_df[\"order_id\"] = weekday_hour_df[\"order_id\"].apply(len)\n",
    "\n",
    "#weekday_hour_df = df.groupby([\"Weekday\", \"hour\"])[\"order_id\"].aggregate(\"count\").reset_index()\n",
    "weekday_hour_df = weekday_hour_df.pivot('weekdayName', 'hour', 'order_id')\n",
    "\n",
    "plt.figure(figsize=(12,6))\n",
    "sns.heatmap(weekday_hour_df)\n",
    "plt.title(\"Frequency of Day of week Vs Hour of day\")\n",
    "plt.show()"
   ]
  },
  {
   "cell_type": "code",
   "execution_count": 107,
   "metadata": {},
   "outputs": [
    {
     "name": "stdout",
     "output_type": "stream",
     "text": [
      "2018-08-21 23:59:02\n"
     ]
    },
    {
     "data": {
      "text/html": [
       "<div>\n",
       "<style scoped>\n",
       "    .dataframe tbody tr th:only-of-type {\n",
       "        vertical-align: middle;\n",
       "    }\n",
       "\n",
       "    .dataframe tbody tr th {\n",
       "        vertical-align: top;\n",
       "    }\n",
       "\n",
       "    .dataframe thead th {\n",
       "        text-align: right;\n",
       "    }\n",
       "</style>\n",
       "<table border=\"1\" class=\"dataframe\">\n",
       "  <thead>\n",
       "    <tr style=\"text-align: right;\">\n",
       "      <th></th>\n",
       "      <th>Recency</th>\n",
       "      <th>Frequency</th>\n",
       "      <th>MonetaryValue</th>\n",
       "    </tr>\n",
       "    <tr>\n",
       "      <th>user_id</th>\n",
       "      <th></th>\n",
       "      <th></th>\n",
       "      <th></th>\n",
       "    </tr>\n",
       "  </thead>\n",
       "  <tbody>\n",
       "    <tr>\n",
       "      <th>++2u4Q40bTeC0ZZDau1MIQ==</th>\n",
       "      <td>1</td>\n",
       "      <td>3</td>\n",
       "      <td>932000</td>\n",
       "    </tr>\n",
       "    <tr>\n",
       "      <th>++HwHhPvBHtXEIN36fDT5w==</th>\n",
       "      <td>2</td>\n",
       "      <td>6</td>\n",
       "      <td>1176000</td>\n",
       "    </tr>\n",
       "    <tr>\n",
       "      <th>++IfjhhQ33j7i4NHdBUJkQ==</th>\n",
       "      <td>8</td>\n",
       "      <td>1</td>\n",
       "      <td>990000</td>\n",
       "    </tr>\n",
       "    <tr>\n",
       "      <th>++KPSp+1ZC6KXlYAS8VcKg==</th>\n",
       "      <td>7</td>\n",
       "      <td>15</td>\n",
       "      <td>1690500</td>\n",
       "    </tr>\n",
       "    <tr>\n",
       "      <th>++XCbp2ChGJyYhM/fYWudg==</th>\n",
       "      <td>9</td>\n",
       "      <td>1</td>\n",
       "      <td>1150000</td>\n",
       "    </tr>\n",
       "    <tr>\n",
       "      <th>...</th>\n",
       "      <td>...</td>\n",
       "      <td>...</td>\n",
       "      <td>...</td>\n",
       "    </tr>\n",
       "    <tr>\n",
       "      <th>zzWZd4QWwB0L4Un+lgk/Wg==</th>\n",
       "      <td>1</td>\n",
       "      <td>8</td>\n",
       "      <td>4803000</td>\n",
       "    </tr>\n",
       "    <tr>\n",
       "      <th>zzZseLwyCpzXFtpz4on05Q==</th>\n",
       "      <td>7</td>\n",
       "      <td>3</td>\n",
       "      <td>1560000</td>\n",
       "    </tr>\n",
       "    <tr>\n",
       "      <th>zzaH+nGpEGQI2z/KZyT1GA==</th>\n",
       "      <td>3</td>\n",
       "      <td>1</td>\n",
       "      <td>3630000</td>\n",
       "    </tr>\n",
       "    <tr>\n",
       "      <th>zzalwv4nhLscJ9Iq+HLYYw==</th>\n",
       "      <td>5</td>\n",
       "      <td>1</td>\n",
       "      <td>1570000</td>\n",
       "    </tr>\n",
       "    <tr>\n",
       "      <th>zzyk3mGNsGD2omR8D+znPA==</th>\n",
       "      <td>1</td>\n",
       "      <td>10</td>\n",
       "      <td>4809000</td>\n",
       "    </tr>\n",
       "  </tbody>\n",
       "</table>\n",
       "<p>55484 rows × 3 columns</p>\n",
       "</div>"
      ],
      "text/plain": [
       "                          Recency  Frequency  MonetaryValue\n",
       "user_id                                                    \n",
       "++2u4Q40bTeC0ZZDau1MIQ==        1          3         932000\n",
       "++HwHhPvBHtXEIN36fDT5w==        2          6        1176000\n",
       "++IfjhhQ33j7i4NHdBUJkQ==        8          1         990000\n",
       "++KPSp+1ZC6KXlYAS8VcKg==        7         15        1690500\n",
       "++XCbp2ChGJyYhM/fYWudg==        9          1        1150000\n",
       "...                           ...        ...            ...\n",
       "zzWZd4QWwB0L4Un+lgk/Wg==        1          8        4803000\n",
       "zzZseLwyCpzXFtpz4on05Q==        7          3        1560000\n",
       "zzaH+nGpEGQI2z/KZyT1GA==        3          1        3630000\n",
       "zzalwv4nhLscJ9Iq+HLYYw==        5          1        1570000\n",
       "zzyk3mGNsGD2omR8D+znPA==        1         10        4809000\n",
       "\n",
       "[55484 rows x 3 columns]"
      ]
     },
     "execution_count": 107,
     "metadata": {},
     "output_type": "execute_result"
    }
   ],
   "source": [
    "# --Group data by customerID--\n",
    "# Create snapshot date\n",
    "snapshot_date = df['date'].max() + timedelta(days=1)\n",
    "print(snapshot_date)\n",
    "# Grouping by CustomerID\n",
    "df_proc = df.groupby(['user_id']).agg({\n",
    "        'date': lambda x: (snapshot_date - x.max()).days,\n",
    "        'order_id': 'count',\n",
    "        'price': 'sum'})\n",
    "# Rename the columns \n",
    "df_proc.rename(columns={'date': 'Recency',\n",
    "                        'order_id': 'Frequency',\n",
    "                        'price': 'MonetaryValue'}, inplace=True)\n",
    "df_proc"
   ]
  },
  {
   "cell_type": "code",
   "execution_count": 109,
   "metadata": {},
   "outputs": [
    {
     "name": "stderr",
     "output_type": "stream",
     "text": [
      "C:\\Users\\Soroush\\AppData\\Local\\Programs\\Python\\Python39\\lib\\site-packages\\seaborn\\distributions.py:2619: FutureWarning: `distplot` is a deprecated function and will be removed in a future version. Please adapt your code to use either `displot` (a figure-level function with similar flexibility) or `histplot` (an axes-level function for histograms).\n",
      "  warnings.warn(msg, FutureWarning)\n",
      "C:\\Users\\Soroush\\AppData\\Local\\Programs\\Python\\Python39\\lib\\site-packages\\seaborn\\distributions.py:2619: FutureWarning: `distplot` is a deprecated function and will be removed in a future version. Please adapt your code to use either `displot` (a figure-level function with similar flexibility) or `histplot` (an axes-level function for histograms).\n",
      "  warnings.warn(msg, FutureWarning)\n",
      "C:\\Users\\Soroush\\AppData\\Local\\Programs\\Python\\Python39\\lib\\site-packages\\seaborn\\distributions.py:2619: FutureWarning: `distplot` is a deprecated function and will be removed in a future version. Please adapt your code to use either `displot` (a figure-level function with similar flexibility) or `histplot` (an axes-level function for histograms).\n",
      "  warnings.warn(msg, FutureWarning)\n"
     ]
    },
    {
     "data": {
      "image/png": "[encoded data removed]",
      "text/plain": [
       "<Figure size 864x720 with 3 Axes>"
      ]
     },
     "metadata": {
      "needs_background": "light"
     },
     "output_type": "display_data"
    }
   ],
   "source": [
    "# Plot RFM distributions\n",
    "plt.figure(figsize=(12,10))\n",
    "# Plot distribution of R\n",
    "plt.subplot(3, 1, 1); sns.distplot(df_proc['Recency'], color='#3297a8')\n",
    "# Plot distribution of F\n",
    "plt.subplot(3, 1, 2); sns.distplot(df_proc['Frequency'], color='#3297a8')\n",
    "# Plot distribution of M\n",
    "plt.subplot(3, 1, 3); sns.distplot(df_proc['MonetaryValue'], color='#3297a8')\n",
    "# Show the plot\n",
    "plt.show()"
   ]
  },
  {
   "cell_type": "code",
   "execution_count": 110,
   "metadata": {},
   "outputs": [
    {
     "data": {
      "text/html": [
       "<div>\n",
       "<style scoped>\n",
       "    .dataframe tbody tr th:only-of-type {\n",
       "        vertical-align: middle;\n",
       "    }\n",
       "\n",
       "    .dataframe tbody tr th {\n",
       "        vertical-align: top;\n",
       "    }\n",
       "\n",
       "    .dataframe thead th {\n",
       "        text-align: right;\n",
       "    }\n",
       "</style>\n",
       "<table border=\"1\" class=\"dataframe\">\n",
       "  <thead>\n",
       "    <tr style=\"text-align: right;\">\n",
       "      <th></th>\n",
       "      <th>Recency</th>\n",
       "      <th>Frequency</th>\n",
       "      <th>MonetaryValue</th>\n",
       "      <th>R</th>\n",
       "      <th>F</th>\n",
       "    </tr>\n",
       "    <tr>\n",
       "      <th>user_id</th>\n",
       "      <th></th>\n",
       "      <th></th>\n",
       "      <th></th>\n",
       "      <th></th>\n",
       "      <th></th>\n",
       "    </tr>\n",
       "  </thead>\n",
       "  <tbody>\n",
       "    <tr>\n",
       "      <th>++2u4Q40bTeC0ZZDau1MIQ==</th>\n",
       "      <td>1</td>\n",
       "      <td>3</td>\n",
       "      <td>932000</td>\n",
       "      <td>1</td>\n",
       "      <td>3</td>\n",
       "    </tr>\n",
       "    <tr>\n",
       "      <th>++HwHhPvBHtXEIN36fDT5w==</th>\n",
       "      <td>2</td>\n",
       "      <td>6</td>\n",
       "      <td>1176000</td>\n",
       "      <td>1</td>\n",
       "      <td>4</td>\n",
       "    </tr>\n",
       "    <tr>\n",
       "      <th>++IfjhhQ33j7i4NHdBUJkQ==</th>\n",
       "      <td>8</td>\n",
       "      <td>1</td>\n",
       "      <td>990000</td>\n",
       "      <td>4</td>\n",
       "      <td>1</td>\n",
       "    </tr>\n",
       "    <tr>\n",
       "      <th>++KPSp+1ZC6KXlYAS8VcKg==</th>\n",
       "      <td>7</td>\n",
       "      <td>15</td>\n",
       "      <td>1690500</td>\n",
       "      <td>4</td>\n",
       "      <td>4</td>\n",
       "    </tr>\n",
       "    <tr>\n",
       "      <th>++XCbp2ChGJyYhM/fYWudg==</th>\n",
       "      <td>9</td>\n",
       "      <td>1</td>\n",
       "      <td>1150000</td>\n",
       "      <td>4</td>\n",
       "      <td>1</td>\n",
       "    </tr>\n",
       "  </tbody>\n",
       "</table>\n",
       "</div>"
      ],
      "text/plain": [
       "                          Recency  Frequency  MonetaryValue  R  F\n",
       "user_id                                                          \n",
       "++2u4Q40bTeC0ZZDau1MIQ==        1          3         932000  1  3\n",
       "++HwHhPvBHtXEIN36fDT5w==        2          6        1176000  1  4\n",
       "++IfjhhQ33j7i4NHdBUJkQ==        8          1         990000  4  1\n",
       "++KPSp+1ZC6KXlYAS8VcKg==        7         15        1690500  4  4\n",
       "++XCbp2ChGJyYhM/fYWudg==        9          1        1150000  4  1"
      ]
     },
     "execution_count": 110,
     "metadata": {},
     "output_type": "execute_result"
    }
   ],
   "source": [
    "# Create labels for Recency and Frequency\n",
    "r_labels = range(4, 0, -1); f_labels = range(1, 5)\n",
    "# Assign these labels to 4 equal percentile groups \n",
    "# r_groups = pd.qcut(df_proc['Recency'], q=4, labels=r_labels)\n",
    "r_groups = pd.cut(df_proc['Recency'].rank(pct=True), \n",
    "                             bins=4, labels=f_labels)\n",
    "# Assign these labels to 4 equal percentile groups \n",
    "# f_groups = pd.qcut(df_proc['Frequency'], q=4, labels=f_labels, duplicates='drop')\n",
    "\n",
    "f_groups = pd.cut(df_proc['Frequency'].rank(pct=True), \n",
    "                             bins=4, labels=f_labels)\n",
    "# Create new columns R and F \n",
    "df_proc = df_proc.assign(R = r_groups.values, F = f_groups.values)\n",
    "df_proc.head()"
   ]
  },
  {
   "cell_type": "code",
   "execution_count": 111,
   "metadata": {},
   "outputs": [],
   "source": [
    "# Create labels for MonetaryValue\n",
    "m_labels = range(1, 5)\n",
    "# Assign these labels to three equal percentile groups \n",
    "m_groups = pd.qcut(df_proc['MonetaryValue'], q=4, labels=m_labels)\n",
    "# Create new column M\n",
    "df_proc = df_proc.assign(M = m_groups.values)"
   ]
  },
  {
   "cell_type": "code",
   "execution_count": 112,
   "metadata": {},
   "outputs": [
    {
     "data": {
      "text/html": [
       "<div>\n",
       "<style scoped>\n",
       "    .dataframe tbody tr th:only-of-type {\n",
       "        vertical-align: middle;\n",
       "    }\n",
       "\n",
       "    .dataframe tbody tr th {\n",
       "        vertical-align: top;\n",
       "    }\n",
       "\n",
       "    .dataframe thead th {\n",
       "        text-align: right;\n",
       "    }\n",
       "</style>\n",
       "<table border=\"1\" class=\"dataframe\">\n",
       "  <thead>\n",
       "    <tr style=\"text-align: right;\">\n",
       "      <th></th>\n",
       "      <th>Recency</th>\n",
       "      <th>Frequency</th>\n",
       "      <th>MonetaryValue</th>\n",
       "      <th>R</th>\n",
       "      <th>F</th>\n",
       "      <th>M</th>\n",
       "    </tr>\n",
       "    <tr>\n",
       "      <th>user_id</th>\n",
       "      <th></th>\n",
       "      <th></th>\n",
       "      <th></th>\n",
       "      <th></th>\n",
       "      <th></th>\n",
       "      <th></th>\n",
       "    </tr>\n",
       "  </thead>\n",
       "  <tbody>\n",
       "    <tr>\n",
       "      <th>++2u4Q40bTeC0ZZDau1MIQ==</th>\n",
       "      <td>1</td>\n",
       "      <td>3</td>\n",
       "      <td>932000</td>\n",
       "      <td>1</td>\n",
       "      <td>3</td>\n",
       "      <td>2</td>\n",
       "    </tr>\n",
       "    <tr>\n",
       "      <th>++HwHhPvBHtXEIN36fDT5w==</th>\n",
       "      <td>2</td>\n",
       "      <td>6</td>\n",
       "      <td>1176000</td>\n",
       "      <td>1</td>\n",
       "      <td>4</td>\n",
       "      <td>2</td>\n",
       "    </tr>\n",
       "    <tr>\n",
       "      <th>++IfjhhQ33j7i4NHdBUJkQ==</th>\n",
       "      <td>8</td>\n",
       "      <td>1</td>\n",
       "      <td>990000</td>\n",
       "      <td>4</td>\n",
       "      <td>1</td>\n",
       "      <td>2</td>\n",
       "    </tr>\n",
       "    <tr>\n",
       "      <th>++KPSp+1ZC6KXlYAS8VcKg==</th>\n",
       "      <td>7</td>\n",
       "      <td>15</td>\n",
       "      <td>1690500</td>\n",
       "      <td>4</td>\n",
       "      <td>4</td>\n",
       "      <td>3</td>\n",
       "    </tr>\n",
       "  </tbody>\n",
       "</table>\n",
       "</div>"
      ],
      "text/plain": [
       "                          Recency  Frequency  MonetaryValue  R  F  M\n",
       "user_id                                                             \n",
       "++2u4Q40bTeC0ZZDau1MIQ==        1          3         932000  1  3  2\n",
       "++HwHhPvBHtXEIN36fDT5w==        2          6        1176000  1  4  2\n",
       "++IfjhhQ33j7i4NHdBUJkQ==        8          1         990000  4  1  2\n",
       "++KPSp+1ZC6KXlYAS8VcKg==        7         15        1690500  4  4  3"
      ]
     },
     "execution_count": 112,
     "metadata": {},
     "output_type": "execute_result"
    }
   ],
   "source": [
    "df_proc.head(4)"
   ]
  },
  {
   "cell_type": "code",
   "execution_count": 113,
   "metadata": {},
   "outputs": [
    {
     "data": {
      "text/html": [
       "<div>\n",
       "<style scoped>\n",
       "    .dataframe tbody tr th:only-of-type {\n",
       "        vertical-align: middle;\n",
       "    }\n",
       "\n",
       "    .dataframe tbody tr th {\n",
       "        vertical-align: top;\n",
       "    }\n",
       "\n",
       "    .dataframe thead th {\n",
       "        text-align: right;\n",
       "    }\n",
       "</style>\n",
       "<table border=\"1\" class=\"dataframe\">\n",
       "  <thead>\n",
       "    <tr style=\"text-align: right;\">\n",
       "      <th></th>\n",
       "      <th>Recency</th>\n",
       "      <th>Frequency</th>\n",
       "      <th>MonetaryValue</th>\n",
       "      <th>R</th>\n",
       "      <th>F</th>\n",
       "      <th>M</th>\n",
       "      <th>RFM_Segment_Concat</th>\n",
       "    </tr>\n",
       "    <tr>\n",
       "      <th>user_id</th>\n",
       "      <th></th>\n",
       "      <th></th>\n",
       "      <th></th>\n",
       "      <th></th>\n",
       "      <th></th>\n",
       "      <th></th>\n",
       "      <th></th>\n",
       "    </tr>\n",
       "  </thead>\n",
       "  <tbody>\n",
       "    <tr>\n",
       "      <th>++2u4Q40bTeC0ZZDau1MIQ==</th>\n",
       "      <td>1</td>\n",
       "      <td>3</td>\n",
       "      <td>932000</td>\n",
       "      <td>1</td>\n",
       "      <td>3</td>\n",
       "      <td>2</td>\n",
       "      <td>132</td>\n",
       "    </tr>\n",
       "    <tr>\n",
       "      <th>++HwHhPvBHtXEIN36fDT5w==</th>\n",
       "      <td>2</td>\n",
       "      <td>6</td>\n",
       "      <td>1176000</td>\n",
       "      <td>1</td>\n",
       "      <td>4</td>\n",
       "      <td>2</td>\n",
       "      <td>142</td>\n",
       "    </tr>\n",
       "    <tr>\n",
       "      <th>++IfjhhQ33j7i4NHdBUJkQ==</th>\n",
       "      <td>8</td>\n",
       "      <td>1</td>\n",
       "      <td>990000</td>\n",
       "      <td>4</td>\n",
       "      <td>1</td>\n",
       "      <td>2</td>\n",
       "      <td>412</td>\n",
       "    </tr>\n",
       "    <tr>\n",
       "      <th>++KPSp+1ZC6KXlYAS8VcKg==</th>\n",
       "      <td>7</td>\n",
       "      <td>15</td>\n",
       "      <td>1690500</td>\n",
       "      <td>4</td>\n",
       "      <td>4</td>\n",
       "      <td>3</td>\n",
       "      <td>443</td>\n",
       "    </tr>\n",
       "    <tr>\n",
       "      <th>++XCbp2ChGJyYhM/fYWudg==</th>\n",
       "      <td>9</td>\n",
       "      <td>1</td>\n",
       "      <td>1150000</td>\n",
       "      <td>4</td>\n",
       "      <td>1</td>\n",
       "      <td>2</td>\n",
       "      <td>412</td>\n",
       "    </tr>\n",
       "  </tbody>\n",
       "</table>\n",
       "</div>"
      ],
      "text/plain": [
       "                          Recency  Frequency  MonetaryValue  R  F  M  \\\n",
       "user_id                                                                \n",
       "++2u4Q40bTeC0ZZDau1MIQ==        1          3         932000  1  3  2   \n",
       "++HwHhPvBHtXEIN36fDT5w==        2          6        1176000  1  4  2   \n",
       "++IfjhhQ33j7i4NHdBUJkQ==        8          1         990000  4  1  2   \n",
       "++KPSp+1ZC6KXlYAS8VcKg==        7         15        1690500  4  4  3   \n",
       "++XCbp2ChGJyYhM/fYWudg==        9          1        1150000  4  1  2   \n",
       "\n",
       "                         RFM_Segment_Concat  \n",
       "user_id                                      \n",
       "++2u4Q40bTeC0ZZDau1MIQ==                132  \n",
       "++HwHhPvBHtXEIN36fDT5w==                142  \n",
       "++IfjhhQ33j7i4NHdBUJkQ==                412  \n",
       "++KPSp+1ZC6KXlYAS8VcKg==                443  \n",
       "++XCbp2ChGJyYhM/fYWudg==                412  "
      ]
     },
     "execution_count": 113,
     "metadata": {},
     "output_type": "execute_result"
    }
   ],
   "source": [
    "# Concat RFM quartile values to create RFM Segments\n",
    "def join_rfm(x): return str(x['R']) + str(x['F']) + str(x['M'])\n",
    "df_proc['RFM_Segment_Concat'] = df_proc.apply(join_rfm, axis=1)\n",
    "rfm = df_proc\n",
    "rfm.head()"
   ]
  },
  {
   "cell_type": "code",
   "execution_count": 114,
   "metadata": {},
   "outputs": [
    {
     "name": "stdout",
     "output_type": "stream",
     "text": [
      "64\n"
     ]
    }
   ],
   "source": [
    "rfm_count_unique = rfm.groupby('RFM_Segment_Concat')['RFM_Segment_Concat'].nunique()\n",
    "print(rfm_count_unique.sum())"
   ]
  },
  {
   "cell_type": "code",
   "execution_count": 115,
   "metadata": {},
   "outputs": [
    {
     "name": "stdout",
     "output_type": "stream",
     "text": [
      "user_id\n",
      "++2u4Q40bTeC0ZZDau1MIQ==     6.0\n",
      "++HwHhPvBHtXEIN36fDT5w==     7.0\n",
      "++IfjhhQ33j7i4NHdBUJkQ==     7.0\n",
      "++KPSp+1ZC6KXlYAS8VcKg==    11.0\n",
      "++XCbp2ChGJyYhM/fYWudg==     7.0\n",
      "Name: RFM_Score, dtype: float64\n"
     ]
    }
   ],
   "source": [
    "rfm['RFM_Score'] = rfm[['R','F','M']].sum(axis=1)\n",
    "print(rfm['RFM_Score'].head())"
   ]
  },
  {
   "cell_type": "code",
   "execution_count": 116,
   "metadata": {},
   "outputs": [
    {
     "data": {
      "text/html": [
       "<div>\n",
       "<style scoped>\n",
       "    .dataframe tbody tr th:only-of-type {\n",
       "        vertical-align: middle;\n",
       "    }\n",
       "\n",
       "    .dataframe tbody tr th {\n",
       "        vertical-align: top;\n",
       "    }\n",
       "\n",
       "    .dataframe thead th {\n",
       "        text-align: right;\n",
       "    }\n",
       "</style>\n",
       "<table border=\"1\" class=\"dataframe\">\n",
       "  <thead>\n",
       "    <tr style=\"text-align: right;\">\n",
       "      <th></th>\n",
       "      <th>Recency</th>\n",
       "      <th>Frequency</th>\n",
       "      <th>MonetaryValue</th>\n",
       "      <th>R</th>\n",
       "      <th>F</th>\n",
       "      <th>M</th>\n",
       "      <th>RFM_Segment_Concat</th>\n",
       "      <th>RFM_Score</th>\n",
       "      <th>RFM_Level</th>\n",
       "    </tr>\n",
       "    <tr>\n",
       "      <th>user_id</th>\n",
       "      <th></th>\n",
       "      <th></th>\n",
       "      <th></th>\n",
       "      <th></th>\n",
       "      <th></th>\n",
       "      <th></th>\n",
       "      <th></th>\n",
       "      <th></th>\n",
       "      <th></th>\n",
       "    </tr>\n",
       "  </thead>\n",
       "  <tbody>\n",
       "    <tr>\n",
       "      <th>++2u4Q40bTeC0ZZDau1MIQ==</th>\n",
       "      <td>1</td>\n",
       "      <td>3</td>\n",
       "      <td>932000</td>\n",
       "      <td>1</td>\n",
       "      <td>3</td>\n",
       "      <td>2</td>\n",
       "      <td>132</td>\n",
       "      <td>6.0</td>\n",
       "      <td>Potential</td>\n",
       "    </tr>\n",
       "    <tr>\n",
       "      <th>++HwHhPvBHtXEIN36fDT5w==</th>\n",
       "      <td>2</td>\n",
       "      <td>6</td>\n",
       "      <td>1176000</td>\n",
       "      <td>1</td>\n",
       "      <td>4</td>\n",
       "      <td>2</td>\n",
       "      <td>142</td>\n",
       "      <td>7.0</td>\n",
       "      <td>Loyal</td>\n",
       "    </tr>\n",
       "    <tr>\n",
       "      <th>++IfjhhQ33j7i4NHdBUJkQ==</th>\n",
       "      <td>8</td>\n",
       "      <td>1</td>\n",
       "      <td>990000</td>\n",
       "      <td>4</td>\n",
       "      <td>1</td>\n",
       "      <td>2</td>\n",
       "      <td>412</td>\n",
       "      <td>7.0</td>\n",
       "      <td>Loyal</td>\n",
       "    </tr>\n",
       "    <tr>\n",
       "      <th>++KPSp+1ZC6KXlYAS8VcKg==</th>\n",
       "      <td>7</td>\n",
       "      <td>15</td>\n",
       "      <td>1690500</td>\n",
       "      <td>4</td>\n",
       "      <td>4</td>\n",
       "      <td>3</td>\n",
       "      <td>443</td>\n",
       "      <td>11.0</td>\n",
       "      <td>Can't Loose Them</td>\n",
       "    </tr>\n",
       "    <tr>\n",
       "      <th>++XCbp2ChGJyYhM/fYWudg==</th>\n",
       "      <td>9</td>\n",
       "      <td>1</td>\n",
       "      <td>1150000</td>\n",
       "      <td>4</td>\n",
       "      <td>1</td>\n",
       "      <td>2</td>\n",
       "      <td>412</td>\n",
       "      <td>7.0</td>\n",
       "      <td>Loyal</td>\n",
       "    </tr>\n",
       "  </tbody>\n",
       "</table>\n",
       "</div>"
      ],
      "text/plain": [
       "                          Recency  Frequency  MonetaryValue  R  F  M  \\\n",
       "user_id                                                                \n",
       "++2u4Q40bTeC0ZZDau1MIQ==        1          3         932000  1  3  2   \n",
       "++HwHhPvBHtXEIN36fDT5w==        2          6        1176000  1  4  2   \n",
       "++IfjhhQ33j7i4NHdBUJkQ==        8          1         990000  4  1  2   \n",
       "++KPSp+1ZC6KXlYAS8VcKg==        7         15        1690500  4  4  3   \n",
       "++XCbp2ChGJyYhM/fYWudg==        9          1        1150000  4  1  2   \n",
       "\n",
       "                         RFM_Segment_Concat  RFM_Score         RFM_Level  \n",
       "user_id                                                                   \n",
       "++2u4Q40bTeC0ZZDau1MIQ==                132        6.0         Potential  \n",
       "++HwHhPvBHtXEIN36fDT5w==                142        7.0             Loyal  \n",
       "++IfjhhQ33j7i4NHdBUJkQ==                412        7.0             Loyal  \n",
       "++KPSp+1ZC6KXlYAS8VcKg==                443       11.0  Can't Loose Them  \n",
       "++XCbp2ChGJyYhM/fYWudg==                412        7.0             Loyal  "
      ]
     },
     "execution_count": 116,
     "metadata": {},
     "output_type": "execute_result"
    }
   ],
   "source": [
    "# Define rfm_level function\n",
    "def rfm_level(df):\n",
    "    if df['RFM_Score'] >= 9:\n",
    "        return 'Can\\'t Loose Them'\n",
    "    elif ((df['RFM_Score'] >= 8) and (df['RFM_Score'] < 9)):\n",
    "        return 'Champions'\n",
    "    elif ((df['RFM_Score'] >= 7) and (df['RFM_Score'] < 8)):\n",
    "        return 'Loyal'\n",
    "    elif ((df['RFM_Score'] >= 6) and (df['RFM_Score'] < 7)):\n",
    "        return 'Potential'\n",
    "    elif ((df['RFM_Score'] >= 5) and (df['RFM_Score'] < 6)):\n",
    "        return 'Promising'\n",
    "    elif ((df['RFM_Score'] >= 4) and (df['RFM_Score'] < 5)):\n",
    "        return 'Needs Attention'\n",
    "    else:\n",
    "        return 'Require Activation'\n",
    "# Create a new variable RFM_Level\n",
    "rfm['RFM_Level'] = rfm.apply(rfm_level, axis=1)\n",
    "# Print the header with top 5 rows to the console\n",
    "rfm.head()"
   ]
  },
  {
   "cell_type": "code",
   "execution_count": 117,
   "metadata": {},
   "outputs": [
    {
     "name": "stdout",
     "output_type": "stream",
     "text": [
      "                   Recency Frequency MonetaryValue       \n",
      "                      mean      mean          mean  count\n",
      "RFM_Level                                                \n",
      "Can't Loose Them       5.7       6.5     7133701.7  16860\n",
      "Champions              5.0       3.4     3754678.2   9480\n",
      "Loyal                  4.6       2.5     2957500.3   8810\n",
      "Needs Attention        2.5       1.2      650396.5   3805\n",
      "Potential              4.6       1.7     2090729.3   9025\n",
      "Promising              3.2       1.5     1013283.8   5525\n",
      "Require Activation     1.6       1.0      392488.1   1979\n"
     ]
    }
   ],
   "source": [
    "# Calculate average values for each RFM_Level, and return a size of each segment \n",
    "rfm_level_agg = rfm.groupby('RFM_Level').agg({\n",
    "    'Recency': 'mean',\n",
    "    'Frequency': 'mean',\n",
    "    'MonetaryValue': ['mean', 'count']\n",
    "}).round(1)\n",
    "# Print the aggregated dataset\n",
    "print(rfm_level_agg)"
   ]
  },
  {
   "cell_type": "code",
   "execution_count": 119,
   "metadata": {},
   "outputs": [
    {
     "data": {
      "image/png": "[encoded data removed]",
      "text/plain": [
       "<Figure size 1152x648 with 1 Axes>"
      ]
     },
     "metadata": {
      "needs_background": "light"
     },
     "output_type": "display_data"
    }
   ],
   "source": [
    "# rfm_level_agg.columns = rfm_level_agg.columns.droplevel()\n",
    "rfm_level_agg.columns = ['RecencyMean','FrequencyMean','MonetaryMean', 'Count']\n",
    "#Create our plot and resize it.\n",
    "fig = plt.gcf()\n",
    "ax = fig.add_subplot()\n",
    "fig.set_size_inches(16, 9)\n",
    "squarify.plot(sizes=rfm_level_agg['Count'], \n",
    "              label=['Can\\'t Loose Them',\n",
    "                     'Champions',\n",
    "                     'Loyal',\n",
    "                     'Needs Attention',\n",
    "                     'Potential', \n",
    "                     'Promising', \n",
    "                     'Require Activation'], alpha=.4 )\n",
    "plt.title(\"RFM Segments\",fontsize=18,fontweight=\"bold\")\n",
    "plt.axis('off')\n",
    "plt.show()"
   ]
  },
  {
   "cell_type": "code",
   "execution_count": 120,
   "metadata": {},
   "outputs": [],
   "source": [
    "user_date_df = df.groupby(['user_id', 'date']).agg({ \n",
    "                            'order_id': 'count',\n",
    "                            # 'variant_id': pd.Series.mode,\n",
    "                            'quantity': 'sum',\n",
    "                            'price': 'sum',\n",
    "                            'city_name': pd.Series.mode,\n",
    "                            'state_id': pd.Series.mode,\n",
    "                            'state_name': pd.Series.mode\n",
    "                            }).reset_index()"
   ]
  },
  {
   "cell_type": "code",
   "execution_count": 121,
   "metadata": {},
   "outputs": [
    {
     "data": {
      "text/html": [
       "<div>\n",
       "<style scoped>\n",
       "    .dataframe tbody tr th:only-of-type {\n",
       "        vertical-align: middle;\n",
       "    }\n",
       "\n",
       "    .dataframe tbody tr th {\n",
       "        vertical-align: top;\n",
       "    }\n",
       "\n",
       "    .dataframe thead th {\n",
       "        text-align: right;\n",
       "    }\n",
       "</style>\n",
       "<table border=\"1\" class=\"dataframe\">\n",
       "  <thead>\n",
       "    <tr style=\"text-align: right;\">\n",
       "      <th></th>\n",
       "      <th>user_id</th>\n",
       "      <th>date</th>\n",
       "      <th>order_id</th>\n",
       "      <th>quantity</th>\n",
       "      <th>price</th>\n",
       "      <th>city_name</th>\n",
       "      <th>state_id</th>\n",
       "      <th>state_name</th>\n",
       "    </tr>\n",
       "  </thead>\n",
       "  <tbody>\n",
       "    <tr>\n",
       "      <th>16914</th>\n",
       "      <td>CmQFSYW7Sso7eoRbzqzV9g==</td>\n",
       "      <td>2018-08-12 06:59:38</td>\n",
       "      <td>10</td>\n",
       "      <td>10</td>\n",
       "      <td>481354000</td>\n",
       "      <td>تهران</td>\n",
       "      <td>9</td>\n",
       "      <td>تهران</td>\n",
       "    </tr>\n",
       "    <tr>\n",
       "      <th>8729</th>\n",
       "      <td>5ilvtuFs+fc9pIzTDMH5BQ==</td>\n",
       "      <td>2018-08-18 14:40:52</td>\n",
       "      <td>4</td>\n",
       "      <td>6</td>\n",
       "      <td>325600000</td>\n",
       "      <td>تهران</td>\n",
       "      <td>9</td>\n",
       "      <td>تهران</td>\n",
       "    </tr>\n",
       "    <tr>\n",
       "      <th>55983</th>\n",
       "      <td>l+Y2WItmthXPoClUmsM+0w==</td>\n",
       "      <td>2018-08-15 19:26:04</td>\n",
       "      <td>9</td>\n",
       "      <td>10</td>\n",
       "      <td>214687000</td>\n",
       "      <td>تهران</td>\n",
       "      <td>9</td>\n",
       "      <td>تهران</td>\n",
       "    </tr>\n",
       "    <tr>\n",
       "      <th>71761</th>\n",
       "      <td>yqssI7lYQ/nXmLiqaUG6bw==</td>\n",
       "      <td>2018-08-19 13:34:05</td>\n",
       "      <td>1</td>\n",
       "      <td>1</td>\n",
       "      <td>212000000</td>\n",
       "      <td>زنجان</td>\n",
       "      <td>15</td>\n",
       "      <td>زنجان</td>\n",
       "    </tr>\n",
       "    <tr>\n",
       "      <th>27078</th>\n",
       "      <td>Lhf/Oa83ocN6mUOl5Uot8Q==</td>\n",
       "      <td>2018-08-15 23:07:26</td>\n",
       "      <td>4</td>\n",
       "      <td>4</td>\n",
       "      <td>199930000</td>\n",
       "      <td>تهران</td>\n",
       "      <td>9</td>\n",
       "      <td>تهران</td>\n",
       "    </tr>\n",
       "    <tr>\n",
       "      <th>...</th>\n",
       "      <td>...</td>\n",
       "      <td>...</td>\n",
       "      <td>...</td>\n",
       "      <td>...</td>\n",
       "      <td>...</td>\n",
       "      <td>...</td>\n",
       "      <td>...</td>\n",
       "      <td>...</td>\n",
       "    </tr>\n",
       "    <tr>\n",
       "      <th>48830</th>\n",
       "      <td>etTUBepKVxQ9DEqOcfzr6g==</td>\n",
       "      <td>2018-08-19 16:46:43</td>\n",
       "      <td>1</td>\n",
       "      <td>1</td>\n",
       "      <td>10900</td>\n",
       "      <td>تهران</td>\n",
       "      <td>9</td>\n",
       "      <td>تهران</td>\n",
       "    </tr>\n",
       "    <tr>\n",
       "      <th>7959</th>\n",
       "      <td>5571gq5GjbX7UvL2pFCamQ==</td>\n",
       "      <td>2018-08-16 07:58:03</td>\n",
       "      <td>1</td>\n",
       "      <td>1</td>\n",
       "      <td>9000</td>\n",
       "      <td>تهران</td>\n",
       "      <td>9</td>\n",
       "      <td>تهران</td>\n",
       "    </tr>\n",
       "    <tr>\n",
       "      <th>56456</th>\n",
       "      <td>lL+6j7QIkD5vbHrsBJP6Ag==</td>\n",
       "      <td>2018-08-20 17:09:33</td>\n",
       "      <td>1</td>\n",
       "      <td>2</td>\n",
       "      <td>8500</td>\n",
       "      <td>تهران</td>\n",
       "      <td>9</td>\n",
       "      <td>تهران</td>\n",
       "    </tr>\n",
       "    <tr>\n",
       "      <th>20906</th>\n",
       "      <td>GP1Fj5oMnG0Zutpg9mlaFA==</td>\n",
       "      <td>2018-08-14 00:03:56</td>\n",
       "      <td>1</td>\n",
       "      <td>1</td>\n",
       "      <td>6000</td>\n",
       "      <td>اهواز</td>\n",
       "      <td>14</td>\n",
       "      <td>خوزستان</td>\n",
       "    </tr>\n",
       "    <tr>\n",
       "      <th>34299</th>\n",
       "      <td>S6ELwJJhU6zIx7ykQx0aaw==</td>\n",
       "      <td>2018-08-18 18:16:56</td>\n",
       "      <td>1</td>\n",
       "      <td>2</td>\n",
       "      <td>2</td>\n",
       "      <td>تهران</td>\n",
       "      <td>9</td>\n",
       "      <td>تهران</td>\n",
       "    </tr>\n",
       "  </tbody>\n",
       "</table>\n",
       "<p>73139 rows × 8 columns</p>\n",
       "</div>"
      ],
      "text/plain": [
       "                        user_id                date  order_id  quantity  \\\n",
       "16914  CmQFSYW7Sso7eoRbzqzV9g== 2018-08-12 06:59:38        10        10   \n",
       "8729   5ilvtuFs+fc9pIzTDMH5BQ== 2018-08-18 14:40:52         4         6   \n",
       "55983  l+Y2WItmthXPoClUmsM+0w== 2018-08-15 19:26:04         9        10   \n",
       "71761  yqssI7lYQ/nXmLiqaUG6bw== 2018-08-19 13:34:05         1         1   \n",
       "27078  Lhf/Oa83ocN6mUOl5Uot8Q== 2018-08-15 23:07:26         4         4   \n",
       "...                         ...                 ...       ...       ...   \n",
       "48830  etTUBepKVxQ9DEqOcfzr6g== 2018-08-19 16:46:43         1         1   \n",
       "7959   5571gq5GjbX7UvL2pFCamQ== 2018-08-16 07:58:03         1         1   \n",
       "56456  lL+6j7QIkD5vbHrsBJP6Ag== 2018-08-20 17:09:33         1         2   \n",
       "20906  GP1Fj5oMnG0Zutpg9mlaFA== 2018-08-14 00:03:56         1         1   \n",
       "34299  S6ELwJJhU6zIx7ykQx0aaw== 2018-08-18 18:16:56         1         2   \n",
       "\n",
       "           price city_name  state_id state_name  \n",
       "16914  481354000     تهران         9      تهران  \n",
       "8729   325600000     تهران         9      تهران  \n",
       "55983  214687000     تهران         9      تهران  \n",
       "71761  212000000     زنجان        15      زنجان  \n",
       "27078  199930000     تهران         9      تهران  \n",
       "...          ...       ...       ...        ...  \n",
       "48830      10900     تهران         9      تهران  \n",
       "7959        9000     تهران         9      تهران  \n",
       "56456       8500     تهران         9      تهران  \n",
       "20906       6000     اهواز        14    خوزستان  \n",
       "34299          2     تهران         9      تهران  \n",
       "\n",
       "[73139 rows x 8 columns]"
      ]
     },
     "execution_count": 121,
     "metadata": {},
     "output_type": "execute_result"
    }
   ],
   "source": [
    "user_date_df.sort_values('price', ascending=False)"
   ]
  }
 ],
 "metadata": {
  "interpreter": {
   "hash": "9224e341b44476d05d3c19b27773e0907353cd7edb50907c54bd9ea71d1f60e1"
  },
  "kernelspec": {
   "display_name": "Python 3.9.6 64-bit",
   "language": "python",
   "name": "python3"
  },
  "language_info": {
   "codemirror_mode": {
    "name": "ipython",
    "version": 3
   },
   "file_extension": ".py",
   "mimetype": "text/x-python",
   "name": "python",
   "nbconvert_exporter": "python",
   "pygments_lexer": "ipython3",
   "version": "3.9.6"
  },
  "orig_nbformat": 4
 },
 "nbformat": 4,
 "nbformat_minor": 2
}
